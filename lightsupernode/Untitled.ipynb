{
 "cells": [
  {
   "cell_type": "code",
   "execution_count": 1,
   "id": "171f3bbd-917e-4f4f-bd4a-df0af124009e",
   "metadata": {},
   "outputs": [],
   "source": [
    "import sys\n",
    "sys.path.insert(1,'/home/sam/Documents/network/supernode/BREC_test/')"
   ]
  },
  {
   "cell_type": "code",
   "execution_count": 2,
   "id": "74074e55-26ee-4e4c-9534-8d2bad384cb0",
   "metadata": {},
   "outputs": [],
   "source": [
    "from concepts.concepts import *\n",
    "from concepts.transformations import AddSupernodesHeteroMulti\n",
    "from BRECDataset_v3 import BRECDataset\n",
    "import torch \n",
    "import hashlib\n",
    "import numpy as np\n",
    "import torch\n",
    "import torch_geometric\n",
    "import torch_geometric.loader\n",
    "from loguru import logger\n",
    "import time\n",
    "from BRECDataset_v3 import BRECDataset\n",
    "from tqdm import tqdm\n",
    "import os\n",
    "from torch.nn import CosineEmbeddingLoss\n",
    "import argparse\n",
    "\n",
    "from torch import nn\n",
    "import torch.nn.functional as F\n",
    "from torch_geometric.data import DataLoader, Data\n",
    "from torch_geometric.utils import degree\n",
    "from torch_geometric.utils.convert import from_networkx\n",
    "from torch_geometric.nn import GIN, MLP, global_add_pool\n",
    "import torch_geometric.transforms as T"
   ]
  },
  {
   "cell_type": "code",
   "execution_count": null,
   "id": "4c8602ce-c753-4d3c-86dc-d5c2a84e068e",
   "metadata": {},
   "outputs": [
    {
     "name": "stderr",
     "output_type": "stream",
     "text": [
      "Processing...\n"
     ]
    }
   ],
   "source": [
    "def makefeatures(data):\n",
    "    data.x = torch.ones((data.num_nodes, 1))\n",
    "    data.id = torch.tensor(\n",
    "        np.random.permutation(np.arange(data.num_nodes))\n",
    "    ).unsqueeze(1)\n",
    "    return data\n",
    "\n",
    "concepts_list_ex = [\n",
    "       {\"name\": \"GCB\", \"fun\": cycle_basis, \"args\": [200]}, # max_num\n",
    "       {\"name\": \"GMC\", \"fun\": max_cliques, \"args\": []},\n",
    "#           {\"name\": \"GLP2\", \"fun\": line_paths, \"args\": []}\n",
    "    ]\n",
    "\n",
    "path_name = ''.join(map(lambda x: x['name'] + str(x['args']), concepts_list_ex))\n",
    "hash_name = hashlib.sha256(path_name.encode('utf-8')).hexdigest()\n",
    "name = f\"BREC_supernode_multi{hash_name}\"\n",
    "\n",
    "supnodes_names = [concept['name'] for concept in concepts_list_ex]\n",
    "sup_transform = AddSupernodesHeteroMulti(concepts_list_ex)\n",
    "pre_transform = T.Compose([makefeatures, sup_transform])\n",
    "# Do something\n",
    "dataset = BRECDataset(dataset_path=\"/home/sam/Documents/network/supernode/dataset/BREC_raw\",\n",
    "                      name=name,\n",
    "                      pre_transform=pre_transform)"
   ]
  },
  {
   "cell_type": "code",
   "execution_count": null,
   "id": "59c6f212-9b1e-404c-8999-e1b667da4759",
   "metadata": {},
   "outputs": [],
   "source": []
  }
 ],
 "metadata": {
  "kernelspec": {
   "display_name": "Python 3 (ipykernel)",
   "language": "python",
   "name": "python3"
  },
  "language_info": {
   "codemirror_mode": {
    "name": "ipython",
    "version": 3
   },
   "file_extension": ".py",
   "mimetype": "text/x-python",
   "name": "python",
   "nbconvert_exporter": "python",
   "pygments_lexer": "ipython3",
   "version": "3.11.7"
  }
 },
 "nbformat": 4,
 "nbformat_minor": 5
}
