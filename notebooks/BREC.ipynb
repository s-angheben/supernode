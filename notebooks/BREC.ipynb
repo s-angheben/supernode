{
 "cells": [
  {
   "cell_type": "code",
   "execution_count": 1,
   "id": "d54d46a5-5499-4bba-90dc-6f62403290ac",
   "metadata": {},
   "outputs": [],
   "source": [
    "import sys\n",
    "sys.path.insert(1,'/home/sam/Documents/network/supernode/lightsupernode/')"
   ]
  },
  {
   "cell_type": "code",
   "execution_count": 2,
   "id": "e723a91a-5ebf-4217-9d04-8818919efb4a",
   "metadata": {},
   "outputs": [
    {
     "name": "stdout",
     "output_type": "stream",
     "text": [
      "Using device: cuda\n"
     ]
    }
   ],
   "source": [
    "import torch\n",
    "device = torch.device(\"cuda\" if torch.cuda.is_available() else \"cpu\")\n",
    "print(f\"Using device: {device}\")"
   ]
  },
  {
   "cell_type": "code",
   "execution_count": 3,
   "id": "002c4a63-696b-49ff-8032-6fb4ac05055e",
   "metadata": {},
   "outputs": [
    {
     "ename": "ImportError",
     "evalue": "cannot import name 'BRECDataset' from 'data.dataset' (/home/sam/Documents/network/supernode/lightsupernode/data/dataset.py)",
     "output_type": "error",
     "traceback": [
      "\u001b[0;31m---------------------------------------------------------------------------\u001b[0m",
      "\u001b[0;31mImportError\u001b[0m                               Traceback (most recent call last)",
      "Cell \u001b[0;32mIn[3], line 1\u001b[0m\n\u001b[0;32m----> 1\u001b[0m \u001b[38;5;28;01mfrom\u001b[39;00m \u001b[38;5;21;01mdata\u001b[39;00m\u001b[38;5;21;01m.\u001b[39;00m\u001b[38;5;21;01mdataset\u001b[39;00m \u001b[38;5;28;01mimport\u001b[39;00m BRECDataset\n\u001b[1;32m      2\u001b[0m \u001b[38;5;28;01mfrom\u001b[39;00m \u001b[38;5;21;01mconcepts\u001b[39;00m\u001b[38;5;21;01m.\u001b[39;00m\u001b[38;5;21;01mconcepts\u001b[39;00m \u001b[38;5;28;01mimport\u001b[39;00m \u001b[38;5;241m*\u001b[39m\n\u001b[1;32m      3\u001b[0m \u001b[38;5;28;01mfrom\u001b[39;00m \u001b[38;5;21;01mconcepts\u001b[39;00m\u001b[38;5;21;01m.\u001b[39;00m\u001b[38;5;21;01mtransformations\u001b[39;00m \u001b[38;5;28;01mimport\u001b[39;00m AddSupernodes, AddSupernodesHetero, AddSupernodesHeteroMulti\n",
      "\u001b[0;31mImportError\u001b[0m: cannot import name 'BRECDataset' from 'data.dataset' (/home/sam/Documents/network/supernode/lightsupernode/data/dataset.py)"
     ]
    }
   ],
   "source": [
    "from data.dataset import BRECDataset\n",
    "from concepts.concepts import *\n",
    "from concepts.transformations import AddSupernodes, AddSupernodesHetero, AddSupernodesHeteroMulti\n",
    "import torch_geometric.transforms as T\n",
    "from torch_geometric.utils import to_networkx\n",
    "import networkx as nx"
   ]
  },
  {
   "cell_type": "code",
   "execution_count": null,
   "id": "1c633e4e-5839-4a8b-b798-9461f79833a9",
   "metadata": {},
   "outputs": [],
   "source": [
    "dataset_name = \"ogbg-molpcbb\"\n",
    "dataset = BRECDataset(\n",
    "    root=\"./dataset/brec4\",\n",
    "    dataset_path=\"/home/sam/Documents/network/supernode/dataset/BREC_raw\",\n",
    "    name=dataset_name\n",
    ")\n",
    "data = dataset[0]\n",
    "print(data)"
   ]
  },
  {
   "cell_type": "code",
   "execution_count": null,
   "id": "d1d41180-fede-4853-897d-0298b3eab07a",
   "metadata": {},
   "outputs": [],
   "source": [
    "G = to_networkx(data)\n",
    "nx.draw(G)"
   ]
  },
  {
   "cell_type": "code",
   "execution_count": null,
   "id": "14c58a91-1564-4343-afb1-946085e29859",
   "metadata": {},
   "outputs": [],
   "source": []
  },
  {
   "cell_type": "code",
   "execution_count": null,
   "id": "8860e94a-e5df-4b32-9b3d-b42ca6f0882c",
   "metadata": {},
   "outputs": [],
   "source": []
  },
  {
   "cell_type": "code",
   "execution_count": null,
   "id": "5e0e5ff0-cdd2-4862-aee7-fcd4fe05195e",
   "metadata": {},
   "outputs": [],
   "source": []
  }
 ],
 "metadata": {
  "kernelspec": {
   "display_name": "Python 3 (ipykernel)",
   "language": "python",
   "name": "python3"
  },
  "language_info": {
   "codemirror_mode": {
    "name": "ipython",
    "version": 3
   },
   "file_extension": ".py",
   "mimetype": "text/x-python",
   "name": "python",
   "nbconvert_exporter": "python",
   "pygments_lexer": "ipython3",
   "version": "3.11.7"
  }
 },
 "nbformat": 4,
 "nbformat_minor": 5
}
