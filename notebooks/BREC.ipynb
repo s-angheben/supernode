{
 "cells": [
  {
   "cell_type": "code",
   "execution_count": 6,
   "id": "d54d46a5-5499-4bba-90dc-6f62403290ac",
   "metadata": {},
   "outputs": [],
   "source": [
    "import sys\n",
    "sys.path.insert(1,'/home/sam/Documents/network/supernode/lightsupernode/')"
   ]
  },
  {
   "cell_type": "code",
   "execution_count": 7,
   "id": "e723a91a-5ebf-4217-9d04-8818919efb4a",
   "metadata": {},
   "outputs": [
    {
     "name": "stdout",
     "output_type": "stream",
     "text": [
      "Using device: cuda\n"
     ]
    }
   ],
   "source": [
    "import torch\n",
    "device = torch.device(\"cuda\" if torch.cuda.is_available() else \"cpu\")\n",
    "print(f\"Using device: {device}\")"
   ]
  },
  {
   "cell_type": "code",
   "execution_count": 8,
   "id": "002c4a63-696b-49ff-8032-6fb4ac05055e",
   "metadata": {},
   "outputs": [],
   "source": [
    "from data.dataset import BRECDataset\n",
    "from concepts.concepts import *\n",
    "from concepts.transformations import AddSupernodes, AddSupernodesHetero, AddSupernodesHeteroMulti\n",
    "import torch_geometric.transforms as T\n",
    "from torch_geometric.utils import to_networkx\n",
    "import networkx as nx"
   ]
  },
  {
   "cell_type": "code",
   "execution_count": 9,
   "id": "1c633e4e-5839-4a8b-b798-9461f79833a9",
   "metadata": {},
   "outputs": [
    {
     "ename": "NameError",
     "evalue": "name 'algos' is not defined",
     "output_type": "error",
     "traceback": [
      "\u001b[0;31m---------------------------------------------------------------------------\u001b[0m",
      "\u001b[0;31mNameError\u001b[0m                                 Traceback (most recent call last)",
      "Cell \u001b[0;32mIn[9], line 7\u001b[0m\n\u001b[1;32m      1\u001b[0m dataset_name \u001b[38;5;241m=\u001b[39m \u001b[38;5;124m\"\u001b[39m\u001b[38;5;124mogbg-molpcbb\u001b[39m\u001b[38;5;124m\"\u001b[39m\n\u001b[1;32m      2\u001b[0m dataset \u001b[38;5;241m=\u001b[39m BRECDataset(\n\u001b[1;32m      3\u001b[0m     root\u001b[38;5;241m=\u001b[39m\u001b[38;5;124m\"\u001b[39m\u001b[38;5;124m./dataset/brec4\u001b[39m\u001b[38;5;124m\"\u001b[39m,\n\u001b[1;32m      4\u001b[0m     dataset_path\u001b[38;5;241m=\u001b[39m\u001b[38;5;124m\"\u001b[39m\u001b[38;5;124m/home/sam/Documents/network/supernode/dataset/BREC_raw\u001b[39m\u001b[38;5;124m\"\u001b[39m,\n\u001b[1;32m      5\u001b[0m     name\u001b[38;5;241m=\u001b[39mdataset_name\n\u001b[1;32m      6\u001b[0m )\n\u001b[0;32m----> 7\u001b[0m data \u001b[38;5;241m=\u001b[39m dataset[\u001b[38;5;241m0\u001b[39m]\n\u001b[1;32m      8\u001b[0m \u001b[38;5;28mprint\u001b[39m(data)\n",
      "File \u001b[0;32m~/Documents/network/supernode/lightsupernode/data/dataset.py:326\u001b[0m, in \u001b[0;36mBRECDataset.__getitem__\u001b[0;34m(self, idx)\u001b[0m\n\u001b[1;32m    323\u001b[0m     item \u001b[38;5;241m=\u001b[39m \u001b[38;5;28mself\u001b[39m\u001b[38;5;241m.\u001b[39mget(\u001b[38;5;28mself\u001b[39m\u001b[38;5;241m.\u001b[39mindices()[idx])\n\u001b[1;32m    324\u001b[0m     item\u001b[38;5;241m.\u001b[39midx \u001b[38;5;241m=\u001b[39m idx\n\u001b[0;32m--> 326\u001b[0m     \u001b[38;5;28;01mreturn\u001b[39;00m preprocess_item(item)\n\u001b[1;32m    327\u001b[0m \u001b[38;5;28;01melse\u001b[39;00m:\n\u001b[1;32m    328\u001b[0m     \u001b[38;5;28;01mreturn\u001b[39;00m \u001b[38;5;28mself\u001b[39m\u001b[38;5;241m.\u001b[39mindex_select(idx)\n",
      "File \u001b[0;32m~/Documents/network/supernode/lightsupernode/data/dataset.py:254\u001b[0m, in \u001b[0;36mpreprocess_item\u001b[0;34m(item)\u001b[0m\n\u001b[1;32m    251\u001b[0m attn_edge_type \u001b[38;5;241m=\u001b[39m torch\u001b[38;5;241m.\u001b[39mzeros([N, N, \u001b[38;5;241m1\u001b[39m], dtype\u001b[38;5;241m=\u001b[39mtorch\u001b[38;5;241m.\u001b[39mlong)\n\u001b[1;32m    252\u001b[0m attn_edge_type[edge_index[\u001b[38;5;241m0\u001b[39m, :], edge_index[\u001b[38;5;241m1\u001b[39m, :]] \u001b[38;5;241m=\u001b[39m \u001b[38;5;241m1\u001b[39m\n\u001b[0;32m--> 254\u001b[0m shortest_path_result, path \u001b[38;5;241m=\u001b[39m algos\u001b[38;5;241m.\u001b[39mfloyd_warshall(adj\u001b[38;5;241m.\u001b[39mnumpy())\n\u001b[1;32m    255\u001b[0m max_dist \u001b[38;5;241m=\u001b[39m np\u001b[38;5;241m.\u001b[39mamax(shortest_path_result)\n\u001b[1;32m    256\u001b[0m edge_input \u001b[38;5;241m=\u001b[39m algos\u001b[38;5;241m.\u001b[39mgen_edge_input(max_dist, path, attn_edge_type\u001b[38;5;241m.\u001b[39mnumpy())\n",
      "\u001b[0;31mNameError\u001b[0m: name 'algos' is not defined"
     ]
    }
   ],
   "source": [
    "dataset_name = \"ogbg-molpcbb\"\n",
    "dataset = BRECDataset(\n",
    "    root=\"./dataset/brec4\",\n",
    "    dataset_path=\"/home/sam/Documents/network/supernode/dataset/BREC_raw\",\n",
    "    name=dataset_name\n",
    ")\n",
    "data = dataset[0]\n",
    "print(data)"
   ]
  },
  {
   "cell_type": "code",
   "execution_count": null,
   "id": "d1d41180-fede-4853-897d-0298b3eab07a",
   "metadata": {},
   "outputs": [],
   "source": [
    "G = to_networkx(data)\n",
    "nx.draw(G)"
   ]
  },
  {
   "cell_type": "code",
   "execution_count": null,
   "id": "14c58a91-1564-4343-afb1-946085e29859",
   "metadata": {},
   "outputs": [],
   "source": []
  },
  {
   "cell_type": "code",
   "execution_count": null,
   "id": "8860e94a-e5df-4b32-9b3d-b42ca6f0882c",
   "metadata": {},
   "outputs": [],
   "source": []
  },
  {
   "cell_type": "code",
   "execution_count": null,
   "id": "5e0e5ff0-cdd2-4862-aee7-fcd4fe05195e",
   "metadata": {},
   "outputs": [],
   "source": []
  }
 ],
 "metadata": {
  "kernelspec": {
   "display_name": "Python 3 (ipykernel)",
   "language": "python",
   "name": "python3"
  },
  "language_info": {
   "codemirror_mode": {
    "name": "ipython",
    "version": 3
   },
   "file_extension": ".py",
   "mimetype": "text/x-python",
   "name": "python",
   "nbconvert_exporter": "python",
   "pygments_lexer": "ipython3",
   "version": "3.11.7"
  }
 },
 "nbformat": 4,
 "nbformat_minor": 5
}
