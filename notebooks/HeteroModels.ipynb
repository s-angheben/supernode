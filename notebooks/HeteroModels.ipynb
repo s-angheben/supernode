{
 "cells": [
  {
   "cell_type": "code",
   "execution_count": 1,
   "id": "143194ac-26fd-41e1-b033-3771f04cd324",
   "metadata": {},
   "outputs": [],
   "source": [
    "import sys\n",
    "sys.path.insert(1, '/home/sam/Documents/network/project/lightsupernode/')"
   ]
  },
  {
   "cell_type": "code",
   "execution_count": 2,
   "id": "24bc83f1-9712-49af-98da-46c8c0393f6f",
   "metadata": {},
   "outputs": [
    {
     "name": "stdout",
     "output_type": "stream",
     "text": [
      "Using device: cuda\n"
     ]
    }
   ],
   "source": [
    "import torch\n",
    "from concepts.concepts import *\n",
    "from concepts.transformations import AddSupernodesHetero\n",
    "from torch_geometric.nn import HeteroConv, GCNConv, SAGEConv, GATConv, Linear, GraphConv, SimpleConv, global_mean_pool\n",
    "from torch.nn import Linear\n",
    "from torch_geometric.loader import DataLoader\n",
    "\n",
    "device = torch.device(\"cuda\" if torch.cuda.is_available() else \"cpu\")\n",
    "print(f\"Using device: {device}\")"
   ]
  },
  {
   "cell_type": "code",
   "execution_count": 3,
   "id": "c53d2132-96f8-4020-9c06-00686c54780a",
   "metadata": {},
   "outputs": [],
   "source": [
    "from torch_geometric.datasets import TUDataset\n",
    "dataset = TUDataset(root=\"./dataset/TUD\", name='MUTAG')"
   ]
  },
  {
   "cell_type": "code",
   "execution_count": 4,
   "id": "018c27a7-8f57-4ef5-8bde-fdbee4af592c",
   "metadata": {},
   "outputs": [
    {
     "name": "stdout",
     "output_type": "stream",
     "text": [
      "tensor([[ 0,  0,  1,  1,  2,  2,  3,  3,  3,  4,  4,  4,  5,  5,  6,  6,  7,  7,\n",
      "          8,  8,  8,  9,  9,  9, 10, 10, 11, 11, 12, 12, 12, 13, 13, 14, 14, 14,\n",
      "         15, 16, 17, 17, 18, 18, 19, 19, 19, 20, 20, 21, 21, 22, 22, 23, 23, 24,\n",
      "         24, 24, 25, 25, 25, 26, 26, 27, 27, 27, 28, 29, 30, 30, 31, 31, 32, 32,\n",
      "         32, 33, 33, 33, 34, 34, 35, 35, 36, 36, 37, 37, 38, 38, 38, 39, 39, 40,\n",
      "         40, 40, 41, 42],\n",
      "        [ 1,  5,  0,  2,  1,  3,  2,  4,  9,  3,  5,  6,  0,  4,  4,  7,  6,  8,\n",
      "          7,  9, 13,  3,  8, 10,  9, 11, 10, 12, 11, 13, 14,  8, 12, 12, 15, 16,\n",
      "         14, 14, 18, 26, 17, 19, 18, 20, 24, 19, 21, 20, 22, 21, 23, 22, 24, 19,\n",
      "         23, 25, 24, 26, 27, 17, 25, 25, 28, 29, 27, 27, 31, 39, 30, 32, 31, 33,\n",
      "         37, 32, 34, 38, 33, 35, 34, 36, 35, 37, 32, 36, 33, 39, 40, 30, 38, 38,\n",
      "         41, 42, 40, 40]])\n",
      "43\n",
      "tensor([[0.8235, 0.0588, 0.1176, 0.0000, 0.0000, 0.0000, 0.0000],\n",
      "        [0.6923, 0.1538, 0.1538, 0.0000, 0.0000, 0.0000, 0.0000],\n",
      "        [0.6923, 0.1538, 0.1538, 0.0000, 0.0000, 0.0000, 0.0000]])\n",
      "43\n"
     ]
    }
   ],
   "source": [
    "train_loader = DataLoader(dataset[:0.8], 3, shuffle=False)\n",
    "batch = next(iter(train_loader))\n",
    "print(batch.edge_index)\n",
    "print(len(batch.x))\n",
    "print(global_mean_pool(batch.x, batch.batch))\n",
    "\n",
    "conv = GraphConv(dataset.num_features, 10)\n",
    "print(len(conv(batch.x, batch.edge_index)))"
   ]
  },
  {
   "cell_type": "code",
   "execution_count": 5,
   "id": "be6bf5fd-b2db-4a64-8337-798cacda0852",
   "metadata": {},
   "outputs": [],
   "source": [
    "concepts_list_ex = [\n",
    "       {\"name\": \"GCB\", \"fun\": cycle_basis, \"args\": []},\n",
    "       {\"name\": \"GMC\", \"fun\": max_cliques, \"args\": []},\n",
    "      {\"name\": \"GLP2\", \"fun\": line_paths, \"args\": []}\n",
    "    ]\n",
    "\n",
    "dataset.transform = AddSupernodesHetero(concepts_list_ex)\n",
    "data = dataset[0]"
   ]
  },
  {
   "cell_type": "code",
   "execution_count": 6,
   "id": "4ba185c6-1b34-4ee7-994d-12f03cf969da",
   "metadata": {},
   "outputs": [
    {
     "data": {
      "text/plain": [
       "HeteroData(\n",
       "  y=[1],\n",
       "  normal={ x=[17, 7] },\n",
       "  supernodes={ x=[7, 7] },\n",
       "  (normal, orig, normal)={\n",
       "    edge_index=[2, 38],\n",
       "    edge_attr=[38, 4],\n",
       "  },\n",
       "  (normal, toSup, supernodes)={ edge_index=[2, 35] },\n",
       "  (supernodes, toNor, normal)={ edge_index=[2, 35] },\n",
       "  (normal, void, normal)={ edge_index=[2, 17] },\n",
       "  (supernodes, void, supernodes)={ edge_index=[2, 7] }\n",
       ")"
      ]
     },
     "execution_count": 6,
     "metadata": {},
     "output_type": "execute_result"
    }
   ],
   "source": [
    "data"
   ]
  },
  {
   "cell_type": "code",
   "execution_count": 7,
   "id": "a7d2a521-843e-40cb-8d39-5a5255659000",
   "metadata": {},
   "outputs": [
    {
     "name": "stdout",
     "output_type": "stream",
     "text": [
      "HeteroData(\n",
      "  y=[1],\n",
      "  normal={ x=[17, 7] },\n",
      "  supernodes={ x=[7, 7] },\n",
      "  (normal, orig, normal)={\n",
      "    edge_index=[2, 38],\n",
      "    edge_attr=[38, 4],\n",
      "  },\n",
      "  (normal, toSup, supernodes)={ edge_index=[2, 35] },\n",
      "  (supernodes, toNor, normal)={ edge_index=[2, 35] },\n",
      "  (normal, void, normal)={ edge_index=[2, 17] },\n",
      "  (supernodes, void, supernodes)={ edge_index=[2, 7] }\n",
      ")\n",
      "tensor([[-0.5770, -0.1057],\n",
      "        [-0.6203, -0.1284],\n",
      "        [-0.5564, -0.0937],\n",
      "        [-0.5574, -0.0956],\n",
      "        [-0.5564, -0.0937],\n",
      "        [-0.6214, -0.1305],\n",
      "        [-0.6204, -0.1282]], grad_fn=<AddmmBackward0>)\n"
     ]
    }
   ],
   "source": [
    "import torch_geometric.transforms as T\n",
    "from torch_geometric.nn import HeteroConv, GCNConv, SAGEConv, GATConv, Linear, GraphConv, SimpleConv, global_mean_pool, MLP\n",
    "\n",
    "class HeteroGNN(torch.nn.Module):\n",
    "    def __init__(self, hidden_channels, out_channels, num_layers):\n",
    "        super().__init__()\n",
    "\n",
    "        self.convs = torch.nn.ModuleList()\n",
    "        for _ in range(num_layers):\n",
    "            conv = HeteroConv({\n",
    "                ('supernodes', 'toNor', 'normal'): GraphConv(-1, hidden_channels, add_self_loops=False),\n",
    "                ('normal', 'toSup', 'supernodes'): SAGEConv((-1, -1), hidden_channels, add_self_loops=False),\n",
    "               ('normal', 'orig', 'normal'): GATConv((-1, -1), hidden_channels, add_self_loops=True),\n",
    "            }, aggr='sum')\n",
    "            self.convs.append(conv)\n",
    "\n",
    "        self.lin = Linear(hidden_channels, out_channels)\n",
    "\n",
    "    def forward(self, x_dict, edge_index_dict):\n",
    "        for conv in self.convs:\n",
    "            x_dict = conv(x_dict, edge_index_dict)\n",
    "            x_dict = {key: x.relu() for key, x in x_dict.items()}\n",
    "        return self.lin(x_dict['supernodes'])\n",
    "\n",
    "model = HeteroGNN(hidden_channels=64, out_channels=dataset.num_classes,\n",
    "                  num_layers=2)\n",
    "\n",
    "out = model(data.x_dict, data.edge_index_dict)\n",
    "print(data)\n",
    "print(out)"
   ]
  },
  {
   "cell_type": "markdown",
   "id": "9d770cc2-1488-43ce-9783-c753c07a26d8",
   "metadata": {},
   "source": [
    "## LOADER"
   ]
  },
  {
   "cell_type": "code",
   "execution_count": 22,
   "id": "e1447e35-0fad-4a09-a562-db77e777929f",
   "metadata": {},
   "outputs": [
    {
     "name": "stdout",
     "output_type": "stream",
     "text": [
      "Using device: cuda\n"
     ]
    }
   ],
   "source": [
    "import hashlib\n",
    "from torch_geometric.loader import DataLoader\n",
    "\n",
    "device = torch.device(\"cuda\" if torch.cuda.is_available() else \"cpu\")\n",
    "print(f\"Using device: {device}\")\n",
    "\n",
    "concepts_list_ex = [\n",
    "       {\"name\": \"GCB\", \"fun\": cycle_basis, \"args\": []},\n",
    "       {\"name\": \"GMC\", \"fun\": max_cliques, \"args\": []},\n",
    "       {\"name\": \"GLP2\", \"fun\": line_paths, \"args\": []}\n",
    "    ]\n",
    "path_name = ''.join(map(lambda x: x['name'] + str(x['args']), concepts_list_ex))\n",
    "hash_name = hashlib.sha256(path_name.encode('utf-8')).hexdigest()\n",
    "\n",
    "dataset = TUDataset(\"./dataset/MutagHetero\"+hash_name, name=\"MUTAG\",\n",
    "                    transform=AddSupernodesHetero(concepts_list_ex))\n",
    "train_loader = DataLoader(dataset[:0.8], 3)"
   ]
  },
  {
   "cell_type": "code",
   "execution_count": 23,
   "id": "55f0c94f-17d4-4bac-b7a1-9edc76c05048",
   "metadata": {},
   "outputs": [
    {
     "data": {
      "text/plain": [
       "{'normal': tensor([0, 0, 0, 0, 0, 0, 0, 0, 0, 0, 0, 0, 0, 0, 0, 0, 0, 1, 1, 1, 1, 1, 1, 1,\n",
       "         1, 1, 1, 1, 1, 1, 2, 2, 2, 2, 2, 2, 2, 2, 2, 2, 2, 2, 2]),\n",
       " 'supernodes': tensor([0, 0, 0, 0, 0, 0, 0, 1, 1, 1, 1, 2, 2, 2, 2])}"
      ]
     },
     "execution_count": 23,
     "metadata": {},
     "output_type": "execute_result"
    }
   ],
   "source": [
    "data = next(iter(train_loader))\n",
    "data.collect('batch')"
   ]
  },
  {
   "cell_type": "markdown",
   "id": "c7c75b5a-946e-425e-ae18-a50a418f6163",
   "metadata": {},
   "source": [
    "## CONV"
   ]
  },
  {
   "cell_type": "code",
   "execution_count": 24,
   "id": "c7f889a6-ea99-40cc-95c5-f662b12450bc",
   "metadata": {},
   "outputs": [],
   "source": [
    "from typing import List, Optional, Union\n",
    "import torch\n",
    "from torch import Tensor\n",
    "from torch_geometric.nn.conv import MessagePassing\n",
    "\n",
    "class IdentityConv(MessagePassing):\n",
    "    def __init__(self, aggr: str = 'add', **kwargs):\n",
    "        super(IdentityConv, self).__init__(aggr=aggr, **kwargs)\n",
    "\n",
    "    def forward(self, x: Tensor, edge_index: Tensor) -> Tensor:\n",
    "        return self.propagate(edge_index, x=x)\n",
    "\n",
    "    def message(self, x_j: Tensor) -> Tensor:\n",
    "        return x_j\n",
    "\n",
    "    def update(self, aggr_out: Tensor, x: Tensor) -> Tensor:\n",
    "        return x"
   ]
  },
  {
   "cell_type": "markdown",
   "id": "e9518277-a8ef-43ae-add5-43c70d26169b",
   "metadata": {},
   "source": [
    "## MODEL"
   ]
  },
  {
   "cell_type": "code",
   "execution_count": 36,
   "id": "fe04ec0e-82b5-43cc-8563-28ab399f41b0",
   "metadata": {},
   "outputs": [
    {
     "name": "stdout",
     "output_type": "stream",
     "text": [
      "HeteroGNN(\n",
      "  (supinit): HeteroConv(num_relations=2)\n",
      "  (convs): ModuleList(\n",
      "    (0-1): 2 x HeteroConv(num_relations=2)\n",
      "  )\n",
      "  (mlp): MLP(64, 64, 2)\n",
      ")\n"
     ]
    }
   ],
   "source": [
    "class HeteroGNN(torch.nn.Module):\n",
    "    def __init__(self, hidden_channels, out_channels, num_layers):\n",
    "        super().__init__()\n",
    "\n",
    "        self.supinit = HeteroConv({\n",
    "            ('normal', 'void', 'normal'): SimpleConv('add'),\n",
    "            ('supernodes', 'toSup', 'supernodes'): SimpleConv('add'),\n",
    "        })\n",
    "\n",
    "        self.convs = torch.nn.ModuleList()\n",
    "        for _ in range(num_layers):\n",
    "            conv = HeteroConv({\n",
    "#                ('supernodes', 'toNor', 'normal'): GraphConv(-1, hidden_channels, add_self_loops=False),\n",
    "#                ('normal', 'toSup', 'supernodes') : IdentityConv(),\n",
    "#                ('normal', 'toSup', 'supernodes'): SAGEConv((-1, -1), hidden_channels, add_self_loops=False),\n",
    "               ('supernodes', 'void', 'supernodes'): SimpleConv('add'), \n",
    "               ('normal', 'orig', 'normal'): GATConv((-1, -1), hidden_channels, add_self_loops=True),\n",
    "            }, aggr='sum')\n",
    "            self.convs.append(conv)\n",
    "\n",
    "        self.readout = global_mean_pool\n",
    "\n",
    "\n",
    "        self.mlp = MLP([hidden_channels, hidden_channels, out_channels],\n",
    "           norm=None, dropout=0.5)\n",
    "\n",
    "        #self.lin = Linear(hidden_channels, out_channels)\n",
    "\n",
    "    def forward(self, x_dict, edge_index_dict, batch_dict):\n",
    "        for conv in self.convs:\n",
    "            x_dict = conv(x_dict, edge_index_dict)\n",
    "            x_dict = {key: x.relu() for key, x in x_dict.items()}\n",
    "\n",
    "        x_dict = self.supinit(x_dict, edge_index_dict)\n",
    "\n",
    "        x_dict = {key: global_mean_pool(x_dict[key], batch_dict[key]) for key in x_dict.keys()}\n",
    "        x = torch.stack(tuple(x_dict.values()), dim=0).sum(dim=0)\n",
    "\n",
    "        x = self.mlp(x)\n",
    "        \n",
    "        return x\n",
    "\n",
    "model = HeteroGNN(hidden_channels=64, out_channels=dataset.num_classes,\n",
    "                  num_layers=2)\n",
    "\n",
    "print(model)"
   ]
  },
  {
   "cell_type": "code",
   "execution_count": 37,
   "id": "d0ab448f-2e37-40c1-ad0b-49c8bac1ba54",
   "metadata": {},
   "outputs": [
    {
     "name": "stdout",
     "output_type": "stream",
     "text": [
      "tensor([[-0.0193, -0.1412],\n",
      "        [ 0.0004, -0.0802],\n",
      "        [ 0.0356, -0.0968]], grad_fn=<AddmmBackward0>)\n"
     ]
    }
   ],
   "source": [
    "out = model(data.x_dict, data.edge_index_dict, data.collect('batch'))\n",
    "print(out)"
   ]
  },
  {
   "cell_type": "code",
   "execution_count": 38,
   "id": "d210e70d-e4c4-4cf4-89e4-657c8d4485cb",
   "metadata": {},
   "outputs": [
    {
     "data": {
      "text/plain": [
       "HeteroDataBatch(\n",
       "  y=[3],\n",
       "  normal={\n",
       "    x=[43, 7],\n",
       "    batch=[43],\n",
       "    ptr=[4],\n",
       "  },\n",
       "  supernodes={\n",
       "    x=[15, 7],\n",
       "    batch=[15],\n",
       "    ptr=[4],\n",
       "  },\n",
       "  (normal, orig, normal)={\n",
       "    edge_index=[2, 94],\n",
       "    edge_attr=[94, 4],\n",
       "  },\n",
       "  (normal, toSup, supernodes)={ edge_index=[2, 81] },\n",
       "  (supernodes, toNor, normal)={ edge_index=[2, 81] },\n",
       "  (normal, void, normal)={ edge_index=[2, 43] },\n",
       "  (supernodes, void, supernodes)={ edge_index=[2, 15] }\n",
       ")"
      ]
     },
     "execution_count": 38,
     "metadata": {},
     "output_type": "execute_result"
    }
   ],
   "source": [
    "data"
   ]
  },
  {
   "cell_type": "code",
   "execution_count": null,
   "id": "46260473-974c-414f-b9f5-d27846dcba09",
   "metadata": {},
   "outputs": [],
   "source": []
  },
  {
   "cell_type": "code",
   "execution_count": null,
   "id": "ad35516a-1dc9-4e09-a458-f1912a6a6693",
   "metadata": {},
   "outputs": [],
   "source": []
  },
  {
   "cell_type": "code",
   "execution_count": null,
   "id": "6d1973da-c2e0-449b-9f72-4bbd4a64bedf",
   "metadata": {},
   "outputs": [],
   "source": []
  },
  {
   "cell_type": "code",
   "execution_count": null,
   "id": "9c5709fa-da53-41b0-bf29-43eab9754b1c",
   "metadata": {},
   "outputs": [],
   "source": []
  },
  {
   "cell_type": "code",
   "execution_count": null,
   "id": "0b90ad01-0e55-437e-82a1-811f1e13e82f",
   "metadata": {},
   "outputs": [],
   "source": []
  }
 ],
 "metadata": {
  "kernelspec": {
   "display_name": "Python 3 (ipykernel)",
   "language": "python",
   "name": "python3"
  },
  "language_info": {
   "codemirror_mode": {
    "name": "ipython",
    "version": 3
   },
   "file_extension": ".py",
   "mimetype": "text/x-python",
   "name": "python",
   "nbconvert_exporter": "python",
   "pygments_lexer": "ipython3",
   "version": "3.11.5"
  }
 },
 "nbformat": 4,
 "nbformat_minor": 5
}
