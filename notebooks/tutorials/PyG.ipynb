{
 "cells": [
  {
   "cell_type": "code",
   "execution_count": 1,
   "id": "453dec49-1eed-4690-a58e-4a29ae16df9d",
   "metadata": {},
   "outputs": [],
   "source": [
    "import torch\n",
    "from torch_geometric.nn import MessagePassing\n",
    "from torch_geometric.utils import add_self_loops, degree"
   ]
  },
  {
   "cell_type": "code",
   "execution_count": 3,
   "id": "51a467d0-15ff-4292-a0af-38577a0d564d",
   "metadata": {},
   "outputs": [],
   "source": [
    "class myGCNConv(MessagePassing):\n",
    "    def __init__(self, in_channels, out_channels):\n",
    "        super(myGCNConv, self).__init__(aggr='add') # \"Add\" aggregation (Step 5).\n",
    "        self.lin = torch.nn.Linear(in_channels, out_channels)"
   ]
  },
  {
   "cell_type": "code",
   "execution_count": null,
   "id": "d9eca9a9-664f-4e7f-816b-8db1808ecbfe",
   "metadata": {},
   "outputs": [],
   "source": []
  }
 ],
 "metadata": {
  "kernelspec": {
   "display_name": "Python 3 (ipykernel)",
   "language": "python",
   "name": "python3"
  },
  "language_info": {
   "codemirror_mode": {
    "name": "ipython",
    "version": 3
   },
   "file_extension": ".py",
   "mimetype": "text/x-python",
   "name": "python",
   "nbconvert_exporter": "python",
   "pygments_lexer": "ipython3",
   "version": "3.11.5"
  }
 },
 "nbformat": 4,
 "nbformat_minor": 5
}
