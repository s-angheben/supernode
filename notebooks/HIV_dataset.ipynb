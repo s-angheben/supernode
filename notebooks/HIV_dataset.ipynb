{
 "cells": [
  {
   "cell_type": "code",
   "execution_count": 1,
   "id": "ce88464f-477e-4152-9098-25fc91ca41e0",
   "metadata": {},
   "outputs": [],
   "source": [
    "import torch\n",
    "import torch_geometric\n",
    "from torch_geometric.datasets import MoleculeNet\n"
   ]
  },
  {
   "cell_type": "code",
   "execution_count": 2,
   "id": "e790adcc-4bac-4fae-9690-2e0f5e59b66c",
   "metadata": {},
   "outputs": [],
   "source": [
    "def unsqueeze_y(data):\n",
    "    data.y = data.y.squeeze(1).long()\n",
    "    return data"
   ]
  },
  {
   "cell_type": "code",
   "execution_count": 3,
   "id": "49f6da26-a543-45ad-8ef5-f20b7ef3c216",
   "metadata": {},
   "outputs": [],
   "source": [
    "dataset = MoleculeNet(root=\"./dataset/just\", name='HIV')"
   ]
  },
  {
   "cell_type": "code",
   "execution_count": 4,
   "id": "22cb63f0-11b5-4742-9d1b-beaf663ecab0",
   "metadata": {},
   "outputs": [
    {
     "name": "stdout",
     "output_type": "stream",
     "text": [
      "\n",
      "Dataset: HIV(41127):\n",
      "======================\n",
      "Number of graphs: 41127\n",
      "Number of features: 9\n",
      "Number of classes: 2\n",
      "\n",
      "Data(x=[19, 9], edge_index=[2, 40], edge_attr=[40, 3], smiles='CCC1=[O+][Cu-3]2([O+]=C(CC)C1)[O+]=C(CC)CC(CC)=[O+]2', y=[1, 1])\n",
      "===========================================================================================================\n",
      "Number of nodes: 19\n",
      "Number of edges: 40\n",
      "Average node degree: 2.11\n",
      "Has isolated nodes: False\n",
      "Has self-loops: False\n",
      "Is undirected: True\n"
     ]
    }
   ],
   "source": [
    "print()\n",
    "print(f'Dataset: {dataset}:')\n",
    "print('======================')\n",
    "print(f'Number of graphs: {len(dataset)}')\n",
    "print(f'Number of features: {dataset.num_features}')\n",
    "print(f'Number of classes: {dataset.num_classes}')\n",
    "\n",
    "data = dataset[0]  # Get the first graph object.\n",
    "\n",
    "print()\n",
    "print(data)\n",
    "print('===========================================================================================================')\n",
    "\n",
    "# Gather some statistics about the graph.\n",
    "print(f'Number of nodes: {data.num_nodes}')\n",
    "print(f'Number of edges: {data.num_edges}')\n",
    "print(f'Average node degree: {data.num_edges / data.num_nodes:.2f}')\n",
    "print(f'Has isolated nodes: {data.has_isolated_nodes()}')\n",
    "print(f'Has self-loops: {data.has_self_loops()}')\n",
    "print(f'Is undirected: {data.is_undirected()}')"
   ]
  },
  {
   "cell_type": "code",
   "execution_count": 5,
   "id": "601d0bab-d2c1-4c2f-b013-37d8993aaf52",
   "metadata": {},
   "outputs": [],
   "source": [
    "import sys\n",
    "sys.path.insert(1, '/home/sam/Documents/network/supernode/HIV_test/')"
   ]
  },
  {
   "cell_type": "code",
   "execution_count": 6,
   "id": "aa649760-9d2b-4bfa-a5c6-7963f2056fc1",
   "metadata": {},
   "outputs": [],
   "source": [
    "from data.transformation import AddSupernodes\n",
    "from data.concepts import *"
   ]
  },
  {
   "cell_type": "code",
   "execution_count": 7,
   "id": "66c4a078-6101-4551-8779-8ea4995eb825",
   "metadata": {},
   "outputs": [],
   "source": [
    "dataset = MoleculeNet(root=\"./dataset/MoleculeNety1\", name='HIV', pre_transform=unsqueeze_y)"
   ]
  },
  {
   "cell_type": "code",
   "execution_count": 8,
   "id": "124ac7ed-7224-435d-8aab-bee4ee6192b2",
   "metadata": {},
   "outputs": [
    {
     "data": {
      "text/plain": [
       "Data(x=[21], edge_index=[2, 64], y=[1], ntype=[21], S=[21], edge_S=[64, 1])"
      ]
     },
     "execution_count": 8,
     "metadata": {},
     "output_type": "execute_result"
    }
   ],
   "source": [
    "concepts_list = [\n",
    "       {\"name\": \"GCB\", \"fun\": cycle_basis, \"args\": [], \"features\" : [2]},\n",
    "       {\"name\": \"GMC\", \"fun\": max_cliques, \"args\": []},\n",
    "    ]\n",
    "data = AddSupernodes(concepts_list)(dataset[0])\n",
    "data"
   ]
  },
  {
   "cell_type": "code",
   "execution_count": 9,
   "id": "135060d7-9091-4746-ad4b-6fedf98beddc",
   "metadata": {},
   "outputs": [
    {
     "data": {
      "text/plain": [
       "tensor([0.])"
      ]
     },
     "execution_count": 9,
     "metadata": {},
     "output_type": "execute_result"
    }
   ],
   "source": [
    "data.y"
   ]
  },
  {
   "cell_type": "markdown",
   "id": "3bf2e0ea-4266-4ec5-8a9d-a3afc3bf9fbb",
   "metadata": {},
   "source": [
    "# DATASET TR"
   ]
  },
  {
   "cell_type": "markdown",
   "id": "8e97e966-84f0-4f05-97e1-9af40db4c2df",
   "metadata": {},
   "source": [
    "# FILES"
   ]
  },
  {
   "cell_type": "code",
   "execution_count": 10,
   "id": "03b5f7e5-ee18-40eb-94fc-546b368f8267",
   "metadata": {},
   "outputs": [],
   "source": [
    "from collections.abc import Mapping\n",
    "from typing import Any, List, Optional, Sequence, Union\n",
    "\n",
    "import torch.utils.data\n",
    "from torch.utils.data.dataloader import default_collate\n",
    "\n",
    "from torch_geometric.data import Batch, Dataset\n",
    "from torch_geometric.data.data import BaseData\n",
    "from torch_geometric.data.datapipes import DatasetAdapter\n",
    "from torch_geometric.typing import TensorFrame, torch_frame\n",
    "\n",
    "\n",
    "class Collater:\n",
    "    def __init__(\n",
    "        self,\n",
    "        dataset: Union[Dataset, Sequence[BaseData], DatasetAdapter],\n",
    "        follow_batch: Optional[List[str]] = None,\n",
    "        exclude_keys: Optional[List[str]] = None,\n",
    "    ):\n",
    "        print(\"zzzzz\")\n",
    "        self.dataset = dataset\n",
    "        self.follow_batch = follow_batch\n",
    "        self.exclude_keys = exclude_keys\n",
    "\n",
    "    def __call__(self, batch: List[Any]) -> Any:\n",
    "        print(\"xxxxx\")\n",
    "        elem = batch[0]\n",
    "        if isinstance(elem, BaseData):\n",
    "            print(\"0000\")\n",
    "            return Batch.from_data_list(\n",
    "                batch,\n",
    "                follow_batch=self.follow_batch,\n",
    "                exclude_keys=self.exclude_keys,\n",
    "            )\n",
    "        elif isinstance(elem, torch.Tensor):\n",
    "            print(\"a\")\n",
    "            return default_collate(batch)\n",
    "        elif isinstance(elem, TensorFrame):\n",
    "            print(\"b\")\n",
    "            return torch_frame.cat(batch, dim=0)\n",
    "        elif isinstance(elem, float):\n",
    "            print(\"c\")\n",
    "            return torch.tensor(batch, dtype=torch.float)\n",
    "        elif isinstance(elem, int):\n",
    "            print(\"d\")\n",
    "            return torch.tensor(batch)\n",
    "        elif isinstance(elem, str):\n",
    "            print(\"e\")\n",
    "            return batch\n",
    "        elif isinstance(elem, Mapping):\n",
    "            print(\"f\")\n",
    "            return {key: self([data[key] for data in batch]) for key in elem}\n",
    "        elif isinstance(elem, tuple) and hasattr(elem, '_fields'):\n",
    "            print(\"g\")\n",
    "            return type(elem)(*(self(s) for s in zip(*batch)))\n",
    "        elif isinstance(elem, Sequence) and not isinstance(elem, str):\n",
    "            print(\"h\")\n",
    "            return [self(s) for s in zip(*batch)]\n",
    "\n",
    "        raise TypeError(f\"DataLoader found invalid type: '{type(elem)}'\")\n",
    "\n",
    "\n",
    "class DataLoader(torch.utils.data.DataLoader):\n",
    "    r\"\"\"A data loader which merges data objects from a\n",
    "    :class:`torch_geometric.data.Dataset` to a mini-batch.\n",
    "    Data objects can be either of type :class:`~torch_geometric.data.Data` or\n",
    "    :class:`~torch_geometric.data.HeteroData`.\n",
    "\n",
    "    Args:\n",
    "        dataset (Dataset): The dataset from which to load the data.\n",
    "        batch_size (int, optional): How many samples per batch to load.\n",
    "            (default: :obj:`1`)\n",
    "        shuffle (bool, optional): If set to :obj:`True`, the data will be\n",
    "            reshuffled at every epoch. (default: :obj:`False`)\n",
    "        follow_batch (List[str], optional): Creates assignment batch\n",
    "            vectors for each key in the list. (default: :obj:`None`)\n",
    "        exclude_keys (List[str], optional): Will exclude each key in the\n",
    "            list. (default: :obj:`None`)\n",
    "        **kwargs (optional): Additional arguments of\n",
    "            :class:`torch.utils.data.DataLoader`.\n",
    "    \"\"\"\n",
    "    def __init__(\n",
    "        self,\n",
    "        dataset: Union[Dataset, Sequence[BaseData], DatasetAdapter],\n",
    "        batch_size: int = 1,\n",
    "        shuffle: bool = False,\n",
    "        follow_batch: Optional[List[str]] = None,\n",
    "        exclude_keys: Optional[List[str]] = None,\n",
    "        **kwargs,\n",
    "    ):\n",
    "        # Remove for PyTorch Lightning:\n",
    "        kwargs.pop('collate_fn', None)\n",
    "\n",
    "        # Save for PyTorch Lightning < 1.6:\n",
    "        self.follow_batch = follow_batch\n",
    "        self.exclude_keys = exclude_keys\n",
    "\n",
    "        print(\"eeee\")\n",
    "\n",
    "        super().__init__(\n",
    "            dataset,\n",
    "            batch_size,\n",
    "            shuffle,\n",
    "            collate_fn=Collater(dataset, follow_batch, exclude_keys),\n",
    "            **kwargs,\n",
    "        )"
   ]
  },
  {
   "cell_type": "code",
   "execution_count": 11,
   "id": "f05c8fda-6c7d-4211-b206-fedbfade0a3e",
   "metadata": {},
   "outputs": [
    {
     "ename": "TypeError",
     "evalue": "Compose.__init__() takes 2 positional arguments but 3 were given",
     "output_type": "error",
     "traceback": [
      "\u001b[0;31m---------------------------------------------------------------------------\u001b[0m",
      "\u001b[0;31mTypeError\u001b[0m                                 Traceback (most recent call last)",
      "Cell \u001b[0;32mIn[11], line 16\u001b[0m\n\u001b[1;32m      8\u001b[0m     \u001b[38;5;28;01mreturn\u001b[39;00m data\n\u001b[1;32m     10\u001b[0m concepts_list \u001b[38;5;241m=\u001b[39m [\n\u001b[1;32m     11\u001b[0m        {\u001b[38;5;124m\"\u001b[39m\u001b[38;5;124mname\u001b[39m\u001b[38;5;124m\"\u001b[39m: \u001b[38;5;124m\"\u001b[39m\u001b[38;5;124mGMC\u001b[39m\u001b[38;5;124m\"\u001b[39m, \u001b[38;5;124m\"\u001b[39m\u001b[38;5;124mfun\u001b[39m\u001b[38;5;124m\"\u001b[39m: cycle_basis, \u001b[38;5;124m\"\u001b[39m\u001b[38;5;124margs\u001b[39m\u001b[38;5;124m\"\u001b[39m: []},\n\u001b[1;32m     12\u001b[0m     ]\n\u001b[1;32m     15\u001b[0m dataset \u001b[38;5;241m=\u001b[39m MoleculeNet(\u001b[38;5;124m\"\u001b[39m\u001b[38;5;124m./dataset/testttaaa\u001b[39m\u001b[38;5;124m\"\u001b[39m, name\u001b[38;5;241m=\u001b[39m\u001b[38;5;124m\"\u001b[39m\u001b[38;5;124mHIV\u001b[39m\u001b[38;5;124m\"\u001b[39m,\n\u001b[0;32m---> 16\u001b[0m                       pre_transform\u001b[38;5;241m=\u001b[39mT\u001b[38;5;241m.\u001b[39mCompose(squeeze_y, AddSupernodes(concepts_list))\n\u001b[1;32m     17\u001b[0m                      )\n\u001b[1;32m     18\u001b[0m loader \u001b[38;5;241m=\u001b[39m DataLoader(dataset, \u001b[38;5;241m100\u001b[39m,\n\u001b[1;32m     19\u001b[0m                     shuffle\u001b[38;5;241m=\u001b[39m\u001b[38;5;28;01mFalse\u001b[39;00m, num_workers\u001b[38;5;241m=\u001b[39m\u001b[38;5;241m0\u001b[39m)\n",
      "\u001b[0;31mTypeError\u001b[0m: Compose.__init__() takes 2 positional arguments but 3 were given"
     ]
    }
   ],
   "source": [
    "from data.transformation import AddSupernodes\n",
    "import torch_geometric.transforms as T\n",
    "\n",
    "\n",
    "def squeeze_y(data):\n",
    "    data.y = data.y.squeeze(1)\n",
    "    data.smiles=None\n",
    "    return data\n",
    "\n",
    "concepts_list = [\n",
    "       {\"name\": \"GMC\", \"fun\": cycle_basis, \"args\": []},\n",
    "    ]\n",
    "\n",
    "\n",
    "dataset = MoleculeNet(\"./dataset/testttaaa\", name=\"HIV\",\n",
    "                      pre_transform=T.Compose(squeeze_y, AddSupernodes(concepts_list))\n",
    "                     )\n",
    "loader = DataLoader(dataset, 100,\n",
    "                    shuffle=False, num_workers=0)"
   ]
  },
  {
   "cell_type": "code",
   "execution_count": null,
   "id": "dae1ee93-9583-4484-bb1c-2a276aa6cf24",
   "metadata": {},
   "outputs": [],
   "source": [
    "print(dataset[0])\n",
    "print(dataset[1])\n",
    "\n",
    "i = iter(loader)\n",
    "for data in loader:\n",
    "    print(data)"
   ]
  },
  {
   "cell_type": "code",
   "execution_count": null,
   "id": "a3cfae13-b749-497e-9194-3821024d9c34",
   "metadata": {},
   "outputs": [],
   "source": [
    "dataset[1].y"
   ]
  },
  {
   "cell_type": "code",
   "execution_count": null,
   "id": "7c50e1b5-d4d1-4317-832f-911dce9c4aec",
   "metadata": {},
   "outputs": [],
   "source": [
    "import torch\n",
    "a = torch.tensor([0., 0., 0., 0., 0., 0., 0., 0., 0., 0., 0., 1., 0., 0., 0., 0., 1., 0.,\n",
    "        0., 0., 0., 0., 0., 0., 0., 0., 0., 0., 0., 0., 0., 0., 0., 0., 0., 0.,\n",
    "        0., 0., 0., 0., 0., 0., 0., 0., 0., 0., 0., 0., 0., 0., 0., 0., 0., 0.,\n",
    "        0., 0., 0., 0., 0., 0., 0., 0., 0., 0., 0., 0., 0., 0., 0., 0., 0., 0.,\n",
    "        0., 0., 0., 0., 0., 0., 0., 0., 1., 0., 0., 0., 0., 0., 0., 0., 0., 0.,\n",
    "        0., 0., 0., 0., 0., 0., 0., 0., 0., 0.])"
   ]
  },
  {
   "cell_type": "code",
   "execution_count": null,
   "id": "45aa6586-f7c6-435d-950d-6a06d60e230e",
   "metadata": {},
   "outputs": [],
   "source": [
    "a.long()"
   ]
  },
  {
   "cell_type": "code",
   "execution_count": null,
   "id": "ef1e2b98-15dd-4dd0-8205-20a803913226",
   "metadata": {},
   "outputs": [],
   "source": [
    "import torch\n",
    "from torch_geometric.data import Data\n",
    "\n",
    "# Assuming data1 and data2 are your Data objects\n",
    "data1 = Data(x=torch.randn(19, 9), edge_index=torch.randint(0, 19, (2, 40)), y=torch.randn(1), ntype=torch.randn(19), S=torch.randn(19), edge_S=torch.randn(40, 1))\n",
    "data2 = Data(x=torch.randn(39, 9), edge_index=torch.randint(0, 39, (2, 88)), y=torch.randn(1), ntype=torch.randn(39), S=torch.randn(39), edge_S=torch.randn(88, 1))\n",
    "\n",
    "# Concatenate x and y attributes\n",
    "concatenated_x = torch.cat([data1.x, data2.x], dim=0)\n",
    "concatenated_y = torch.cat([data1.y, data2.y], dim=0)\n",
    "\n",
    "# Create a new Data object with concatenated attributes\n",
    "concatenated_data = Data(x=concatenated_x, edge_index=data1.edge_index, y=concatenated_y, ntype=data1.ntype, S=data1.S, edge_S=data1.edge_S)\n",
    "\n",
    "# Print concatenated_data to verify\n",
    "print(concatenated_data)"
   ]
  },
  {
   "cell_type": "markdown",
   "id": "1648f1fd-ee42-47cc-883b-a305cd5d0ede",
   "metadata": {},
   "source": [
    "### DATASET\n"
   ]
  },
  {
   "cell_type": "code",
   "execution_count": 12,
   "id": "3fe51703-81a3-4964-a102-5fd4ebb1bcb9",
   "metadata": {},
   "outputs": [],
   "source": [
    "from torch_geometric.data import InMemoryDataset\n",
    "import shutil\n",
    "from data.transformation import AddSupernodesHeteroMulti\n",
    "from torch_geometric.data import HeteroData\n",
    "\n",
    "concepts_list = [\n",
    "       {\"name\": \"GMC\", \"fun\": cycle_basis, \"args\": []},\n",
    "]"
   ]
  },
  {
   "cell_type": "code",
   "execution_count": 13,
   "id": "1d2ed1de-59da-4374-bde5-5f28f23deabd",
   "metadata": {},
   "outputs": [],
   "source": [
    "class MoleculeHIV_herero_multi(InMemoryDataset):\n",
    "    def __init__(self, root, concepts, transform=None, pre_transform=None):\n",
    "        self.concepts = concepts\n",
    "        super().__init__(root, transform, pre_transform)\n",
    "        self.load(self.processed_paths[0], data_cls=HeteroData)\n",
    "\n",
    "    def raw_file_names(self):\n",
    "        return ['data.pth']        \n",
    "\n",
    "    def processed_file_names(self):\n",
    "        return ['transformed_dataset.pth']\n",
    "\n",
    "\n",
    "    def download(self):\n",
    "        dataset = MoleculeNet(\"./dataset/STEP/\", name=\"HIV\",\n",
    "                              pre_transform=squeeze_y,)\n",
    "        transformed_dataset = [AddSupernodesHeteroMulti(self.concepts)(data) for data in dataset]\n",
    "        torch.save(transformed_dataset, f'{self.raw_dir}/data.pth')\n",
    "\n",
    "    def process(self):\n",
    "        print(self.processed_paths[0])\n",
    "        data_list = torch.load(f'{self.raw_dir}/data.pth')\n",
    "\n",
    "        if self.pre_filter is not None:\n",
    "            data_list = [data for data in data_list if self.pre_filter(data)]\n",
    "\n",
    "        if self.pre_transform is not None:\n",
    "            data_list = [self.pre_transform(data) for data in data_list]\n",
    "\n",
    "        self.save(data_list, f'{self.processed_dir}/transformed_dataset.pth')\n"
   ]
  },
  {
   "cell_type": "code",
   "execution_count": 14,
   "id": "a33becd8-c3fd-4c2d-a275-272420f4687b",
   "metadata": {},
   "outputs": [
    {
     "name": "stderr",
     "output_type": "stream",
     "text": [
      "Processing...\n"
     ]
    },
    {
     "name": "stdout",
     "output_type": "stream",
     "text": [
      "dataset/gg/processed/transformed_dataset.pth\n"
     ]
    },
    {
     "name": "stderr",
     "output_type": "stream",
     "text": [
      "Done!\n"
     ]
    }
   ],
   "source": [
    "dataset = MoleculeHIV_herero_multi(\"./dataset/gg\", concepts=concepts_list)"
   ]
  },
  {
   "cell_type": "code",
   "execution_count": 15,
   "id": "2780f1ab-8304-406a-ad9d-597399c3f4ba",
   "metadata": {},
   "outputs": [
    {
     "data": {
      "text/plain": [
       "HeteroData(\n",
       "  normal={ x=[10, 9] },\n",
       "  label={ y=[1] },\n",
       "  GMC={ x=[1, 9] },\n",
       "  (normal, orig, normal)={\n",
       "    edge_index=[2, 18],\n",
       "    edge_attr=[18, 3],\n",
       "  },\n",
       "  (normal, identity, normal)={ edge_index=[2, 10] },\n",
       "  (normal, toSup, GMC)={ edge_index=[2, 6] },\n",
       "  (GMC, toNor, normal)={ edge_index=[2, 6] },\n",
       "  (GMC, identity, GMC)={ edge_index=[2, 1] }\n",
       ")"
      ]
     },
     "execution_count": 15,
     "metadata": {},
     "output_type": "execute_result"
    }
   ],
   "source": [
    "dataset[4]"
   ]
  },
  {
   "cell_type": "code",
   "execution_count": null,
   "id": "46facc05-ad7d-4c01-919d-5ecc6bc917d9",
   "metadata": {},
   "outputs": [],
   "source": []
  },
  {
   "cell_type": "code",
   "execution_count": null,
   "id": "9b96355d-9361-4528-a84d-77e7854b9c7f",
   "metadata": {},
   "outputs": [],
   "source": []
  }
 ],
 "metadata": {
  "kernelspec": {
   "display_name": "Python 3 (ipykernel)",
   "language": "python",
   "name": "python3"
  },
  "language_info": {
   "codemirror_mode": {
    "name": "ipython",
    "version": 3
   },
   "file_extension": ".py",
   "mimetype": "text/x-python",
   "name": "python",
   "nbconvert_exporter": "python",
   "pygments_lexer": "ipython3",
   "version": "3.11.7"
  }
 },
 "nbformat": 4,
 "nbformat_minor": 5
}
