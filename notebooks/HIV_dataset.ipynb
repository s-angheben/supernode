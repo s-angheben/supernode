{
 "cells": [
  {
   "cell_type": "code",
   "execution_count": 1,
   "id": "ce88464f-477e-4152-9098-25fc91ca41e0",
   "metadata": {},
   "outputs": [],
   "source": [
    "import torch\n",
    "import torch_geometric\n",
    "from torch_geometric.datasets import MoleculeNet\n"
   ]
  },
  {
   "cell_type": "code",
   "execution_count": 2,
   "id": "e790adcc-4bac-4fae-9690-2e0f5e59b66c",
   "metadata": {},
   "outputs": [],
   "source": [
    "def unsqueeze_y(data):\n",
    "    data.y = data.y.squeeze(1).long()\n",
    "    return data"
   ]
  },
  {
   "cell_type": "code",
   "execution_count": 3,
   "id": "49f6da26-a543-45ad-8ef5-f20b7ef3c216",
   "metadata": {},
   "outputs": [],
   "source": [
    "dataset = MoleculeNet(root=\"./dataset/just\", name='HIV')"
   ]
  },
  {
   "cell_type": "code",
   "execution_count": 4,
   "id": "22cb63f0-11b5-4742-9d1b-beaf663ecab0",
   "metadata": {},
   "outputs": [
    {
     "name": "stdout",
     "output_type": "stream",
     "text": [
      "\n",
      "Dataset: HIV(41127):\n",
      "======================\n",
      "Number of graphs: 41127\n",
      "Number of features: 9\n",
      "Number of classes: 2\n",
      "\n",
      "Data(x=[19, 9], edge_index=[2, 40], edge_attr=[40, 3], smiles='CCC1=[O+][Cu-3]2([O+]=C(CC)C1)[O+]=C(CC)CC(CC)=[O+]2', y=[1, 1])\n",
      "===========================================================================================================\n",
      "Number of nodes: 19\n",
      "Number of edges: 40\n",
      "Average node degree: 2.11\n",
      "Has isolated nodes: False\n",
      "Has self-loops: False\n",
      "Is undirected: True\n"
     ]
    }
   ],
   "source": [
    "print()\n",
    "print(f'Dataset: {dataset}:')\n",
    "print('======================')\n",
    "print(f'Number of graphs: {len(dataset)}')\n",
    "print(f'Number of features: {dataset.num_features}')\n",
    "print(f'Number of classes: {dataset.num_classes}')\n",
    "\n",
    "data = dataset[0]  # Get the first graph object.\n",
    "\n",
    "print()\n",
    "print(data)\n",
    "print('===========================================================================================================')\n",
    "\n",
    "# Gather some statistics about the graph.\n",
    "print(f'Number of nodes: {data.num_nodes}')\n",
    "print(f'Number of edges: {data.num_edges}')\n",
    "print(f'Average node degree: {data.num_edges / data.num_nodes:.2f}')\n",
    "print(f'Has isolated nodes: {data.has_isolated_nodes()}')\n",
    "print(f'Has self-loops: {data.has_self_loops()}')\n",
    "print(f'Is undirected: {data.is_undirected()}')"
   ]
  },
  {
   "cell_type": "code",
   "execution_count": 5,
   "id": "601d0bab-d2c1-4c2f-b013-37d8993aaf52",
   "metadata": {},
   "outputs": [],
   "source": [
    "import sys\n",
    "sys.path.insert(1, '/home/sam/Documents/network/supernode/HIV_test/')"
   ]
  },
  {
   "cell_type": "code",
   "execution_count": 6,
   "id": "aa649760-9d2b-4bfa-a5c6-7963f2056fc1",
   "metadata": {},
   "outputs": [],
   "source": [
    "from data.transformation import AddSupernodes\n",
    "from data.concepts import *"
   ]
  },
  {
   "cell_type": "code",
   "execution_count": 7,
   "id": "66c4a078-6101-4551-8779-8ea4995eb825",
   "metadata": {},
   "outputs": [],
   "source": [
    "dataset = MoleculeNet(root=\"./dataset/MoleculeNety1\", name='HIV', pre_transform=unsqueeze_y)"
   ]
  },
  {
   "cell_type": "code",
   "execution_count": 8,
   "id": "124ac7ed-7224-435d-8aab-bee4ee6192b2",
   "metadata": {},
   "outputs": [
    {
     "data": {
      "text/plain": [
       "Data(x=[21], edge_index=[2, 64], y=[1], ntype=[21], S=[21], edge_S=[64, 1])"
      ]
     },
     "execution_count": 8,
     "metadata": {},
     "output_type": "execute_result"
    }
   ],
   "source": [
    "concepts_list = [\n",
    "       {\"name\": \"GCB\", \"fun\": cycle_basis, \"args\": [], \"features\" : [2]},\n",
    "       {\"name\": \"GMC\", \"fun\": max_cliques, \"args\": []},\n",
    "    ]\n",
    "data = AddSupernodes(concepts_list)(dataset[0])\n",
    "data"
   ]
  },
  {
   "cell_type": "code",
   "execution_count": 9,
   "id": "135060d7-9091-4746-ad4b-6fedf98beddc",
   "metadata": {},
   "outputs": [
    {
     "data": {
      "text/plain": [
       "tensor([0.])"
      ]
     },
     "execution_count": 9,
     "metadata": {},
     "output_type": "execute_result"
    }
   ],
   "source": [
    "data.y"
   ]
  },
  {
   "cell_type": "markdown",
   "id": "3bf2e0ea-4266-4ec5-8a9d-a3afc3bf9fbb",
   "metadata": {},
   "source": [
    "# DATASET TR"
   ]
  },
  {
   "cell_type": "markdown",
   "id": "8e97e966-84f0-4f05-97e1-9af40db4c2df",
   "metadata": {},
   "source": [
    "# FILES"
   ]
  },
  {
   "cell_type": "code",
   "execution_count": 10,
   "id": "03b5f7e5-ee18-40eb-94fc-546b368f8267",
   "metadata": {},
   "outputs": [],
   "source": [
    "from collections.abc import Mapping\n",
    "from typing import Any, List, Optional, Sequence, Union\n",
    "\n",
    "import torch.utils.data\n",
    "from torch.utils.data.dataloader import default_collate\n",
    "\n",
    "from torch_geometric.data import Batch, Dataset\n",
    "from torch_geometric.data.data import BaseData\n",
    "from torch_geometric.data.datapipes import DatasetAdapter\n",
    "from torch_geometric.typing import TensorFrame, torch_frame\n",
    "\n",
    "\n",
    "class Collater:\n",
    "    def __init__(\n",
    "        self,\n",
    "        dataset: Union[Dataset, Sequence[BaseData], DatasetAdapter],\n",
    "        follow_batch: Optional[List[str]] = None,\n",
    "        exclude_keys: Optional[List[str]] = None,\n",
    "    ):\n",
    "        print(\"zzzzz\")\n",
    "        self.dataset = dataset\n",
    "        self.follow_batch = follow_batch\n",
    "        self.exclude_keys = exclude_keys\n",
    "\n",
    "    def __call__(self, batch: List[Any]) -> Any:\n",
    "        print(\"xxxxx\")\n",
    "        elem = batch[0]\n",
    "        if isinstance(elem, BaseData):\n",
    "            print(\"0000\")\n",
    "            return Batch.from_data_list(\n",
    "                batch,\n",
    "                follow_batch=self.follow_batch,\n",
    "                exclude_keys=self.exclude_keys,\n",
    "            )\n",
    "        elif isinstance(elem, torch.Tensor):\n",
    "            print(\"a\")\n",
    "            return default_collate(batch)\n",
    "        elif isinstance(elem, TensorFrame):\n",
    "            print(\"b\")\n",
    "            return torch_frame.cat(batch, dim=0)\n",
    "        elif isinstance(elem, float):\n",
    "            print(\"c\")\n",
    "            return torch.tensor(batch, dtype=torch.float)\n",
    "        elif isinstance(elem, int):\n",
    "            print(\"d\")\n",
    "            return torch.tensor(batch)\n",
    "        elif isinstance(elem, str):\n",
    "            print(\"e\")\n",
    "            return batch\n",
    "        elif isinstance(elem, Mapping):\n",
    "            print(\"f\")\n",
    "            return {key: self([data[key] for data in batch]) for key in elem}\n",
    "        elif isinstance(elem, tuple) and hasattr(elem, '_fields'):\n",
    "            print(\"g\")\n",
    "            return type(elem)(*(self(s) for s in zip(*batch)))\n",
    "        elif isinstance(elem, Sequence) and not isinstance(elem, str):\n",
    "            print(\"h\")\n",
    "            return [self(s) for s in zip(*batch)]\n",
    "\n",
    "        raise TypeError(f\"DataLoader found invalid type: '{type(elem)}'\")\n",
    "\n",
    "\n",
    "class DataLoader(torch.utils.data.DataLoader):\n",
    "    r\"\"\"A data loader which merges data objects from a\n",
    "    :class:`torch_geometric.data.Dataset` to a mini-batch.\n",
    "    Data objects can be either of type :class:`~torch_geometric.data.Data` or\n",
    "    :class:`~torch_geometric.data.HeteroData`.\n",
    "\n",
    "    Args:\n",
    "        dataset (Dataset): The dataset from which to load the data.\n",
    "        batch_size (int, optional): How many samples per batch to load.\n",
    "            (default: :obj:`1`)\n",
    "        shuffle (bool, optional): If set to :obj:`True`, the data will be\n",
    "            reshuffled at every epoch. (default: :obj:`False`)\n",
    "        follow_batch (List[str], optional): Creates assignment batch\n",
    "            vectors for each key in the list. (default: :obj:`None`)\n",
    "        exclude_keys (List[str], optional): Will exclude each key in the\n",
    "            list. (default: :obj:`None`)\n",
    "        **kwargs (optional): Additional arguments of\n",
    "            :class:`torch.utils.data.DataLoader`.\n",
    "    \"\"\"\n",
    "    def __init__(\n",
    "        self,\n",
    "        dataset: Union[Dataset, Sequence[BaseData], DatasetAdapter],\n",
    "        batch_size: int = 1,\n",
    "        shuffle: bool = False,\n",
    "        follow_batch: Optional[List[str]] = None,\n",
    "        exclude_keys: Optional[List[str]] = None,\n",
    "        **kwargs,\n",
    "    ):\n",
    "        # Remove for PyTorch Lightning:\n",
    "        kwargs.pop('collate_fn', None)\n",
    "\n",
    "        # Save for PyTorch Lightning < 1.6:\n",
    "        self.follow_batch = follow_batch\n",
    "        self.exclude_keys = exclude_keys\n",
    "\n",
    "        print(\"eeee\")\n",
    "\n",
    "        super().__init__(\n",
    "            dataset,\n",
    "            batch_size,\n",
    "            shuffle,\n",
    "            collate_fn=Collater(dataset, follow_batch, exclude_keys),\n",
    "            **kwargs,\n",
    "        )"
   ]
  },
  {
   "cell_type": "code",
   "execution_count": 11,
   "id": "f05c8fda-6c7d-4211-b206-fedbfade0a3e",
   "metadata": {},
   "outputs": [
    {
     "ename": "TypeError",
     "evalue": "Compose.__init__() takes 2 positional arguments but 3 were given",
     "output_type": "error",
     "traceback": [
      "\u001b[0;31m---------------------------------------------------------------------------\u001b[0m",
      "\u001b[0;31mTypeError\u001b[0m                                 Traceback (most recent call last)",
      "Cell \u001b[0;32mIn[11], line 16\u001b[0m\n\u001b[1;32m      8\u001b[0m     \u001b[38;5;28;01mreturn\u001b[39;00m data\n\u001b[1;32m     10\u001b[0m concepts_list \u001b[38;5;241m=\u001b[39m [\n\u001b[1;32m     11\u001b[0m        {\u001b[38;5;124m\"\u001b[39m\u001b[38;5;124mname\u001b[39m\u001b[38;5;124m\"\u001b[39m: \u001b[38;5;124m\"\u001b[39m\u001b[38;5;124mGMC\u001b[39m\u001b[38;5;124m\"\u001b[39m, \u001b[38;5;124m\"\u001b[39m\u001b[38;5;124mfun\u001b[39m\u001b[38;5;124m\"\u001b[39m: cycle_basis, \u001b[38;5;124m\"\u001b[39m\u001b[38;5;124margs\u001b[39m\u001b[38;5;124m\"\u001b[39m: []},\n\u001b[1;32m     12\u001b[0m     ]\n\u001b[1;32m     15\u001b[0m dataset \u001b[38;5;241m=\u001b[39m MoleculeNet(\u001b[38;5;124m\"\u001b[39m\u001b[38;5;124m./dataset/testttaaa\u001b[39m\u001b[38;5;124m\"\u001b[39m, name\u001b[38;5;241m=\u001b[39m\u001b[38;5;124m\"\u001b[39m\u001b[38;5;124mHIV\u001b[39m\u001b[38;5;124m\"\u001b[39m,\n\u001b[0;32m---> 16\u001b[0m                       pre_transform\u001b[38;5;241m=\u001b[39mT\u001b[38;5;241m.\u001b[39mCompose(squeeze_y, AddSupernodes(concepts_list))\n\u001b[1;32m     17\u001b[0m                      )\n\u001b[1;32m     18\u001b[0m loader \u001b[38;5;241m=\u001b[39m DataLoader(dataset, \u001b[38;5;241m100\u001b[39m,\n\u001b[1;32m     19\u001b[0m                     shuffle\u001b[38;5;241m=\u001b[39m\u001b[38;5;28;01mFalse\u001b[39;00m, num_workers\u001b[38;5;241m=\u001b[39m\u001b[38;5;241m0\u001b[39m)\n",
      "\u001b[0;31mTypeError\u001b[0m: Compose.__init__() takes 2 positional arguments but 3 were given"
     ]
    }
   ],
   "source": [
    "from data.transformation import AddSupernodes\n",
    "import torch_geometric.transforms as T\n",
    "\n",
    "\n",
    "def squeeze_y(data):\n",
    "    data.y = data.y.squeeze(1)\n",
    "    data.smiles=None\n",
    "    return data\n",
    "\n",
    "concepts_list = [\n",
    "       {\"name\": \"GMC\", \"fun\": cycle_basis, \"args\": []},\n",
    "    ]\n",
    "\n",
    "\n",
    "dataset = MoleculeNet(\"./dataset/testttaaa\", name=\"HIV\",\n",
    "                      pre_transform=T.Compose(squeeze_y, AddSupernodes(concepts_list))\n",
    "                     )\n",
    "loader = DataLoader(dataset, 100,\n",
    "                    shuffle=False, num_workers=0)"
   ]
  },
  {
   "cell_type": "code",
   "execution_count": null,
   "id": "dae1ee93-9583-4484-bb1c-2a276aa6cf24",
   "metadata": {},
   "outputs": [],
   "source": [
    "print(dataset[0])\n",
    "print(dataset[1])\n",
    "\n",
    "i = iter(loader)\n",
    "for data in loader:\n",
    "    print(data)"
   ]
  },
  {
   "cell_type": "code",
   "execution_count": null,
   "id": "a3cfae13-b749-497e-9194-3821024d9c34",
   "metadata": {},
   "outputs": [],
   "source": [
    "dataset[1].y"
   ]
  },
  {
   "cell_type": "code",
   "execution_count": null,
   "id": "7c50e1b5-d4d1-4317-832f-911dce9c4aec",
   "metadata": {},
   "outputs": [],
   "source": [
    "import torch\n",
    "a = torch.tensor([0., 0., 0., 0., 0., 0., 0., 0., 0., 0., 0., 1., 0., 0., 0., 0., 1., 0.,\n",
    "        0., 0., 0., 0., 0., 0., 0., 0., 0., 0., 0., 0., 0., 0., 0., 0., 0., 0.,\n",
    "        0., 0., 0., 0., 0., 0., 0., 0., 0., 0., 0., 0., 0., 0., 0., 0., 0., 0.,\n",
    "        0., 0., 0., 0., 0., 0., 0., 0., 0., 0., 0., 0., 0., 0., 0., 0., 0., 0.,\n",
    "        0., 0., 0., 0., 0., 0., 0., 0., 1., 0., 0., 0., 0., 0., 0., 0., 0., 0.,\n",
    "        0., 0., 0., 0., 0., 0., 0., 0., 0., 0.])"
   ]
  },
  {
   "cell_type": "code",
   "execution_count": null,
   "id": "45aa6586-f7c6-435d-950d-6a06d60e230e",
   "metadata": {},
   "outputs": [],
   "source": [
    "a.long()"
   ]
  },
  {
   "cell_type": "code",
   "execution_count": null,
   "id": "ef1e2b98-15dd-4dd0-8205-20a803913226",
   "metadata": {},
   "outputs": [],
   "source": [
    "import torch\n",
    "from torch_geometric.data import Data\n",
    "\n",
    "# Assuming data1 and data2 are your Data objects\n",
    "data1 = Data(x=torch.randn(19, 9), edge_index=torch.randint(0, 19, (2, 40)), y=torch.randn(1), ntype=torch.randn(19), S=torch.randn(19), edge_S=torch.randn(40, 1))\n",
    "data2 = Data(x=torch.randn(39, 9), edge_index=torch.randint(0, 39, (2, 88)), y=torch.randn(1), ntype=torch.randn(39), S=torch.randn(39), edge_S=torch.randn(88, 1))\n",
    "\n",
    "# Concatenate x and y attributes\n",
    "concatenated_x = torch.cat([data1.x, data2.x], dim=0)\n",
    "concatenated_y = torch.cat([data1.y, data2.y], dim=0)\n",
    "\n",
    "# Create a new Data object with concatenated attributes\n",
    "concatenated_data = Data(x=concatenated_x, edge_index=data1.edge_index, y=concatenated_y, ntype=data1.ntype, S=data1.S, edge_S=data1.edge_S)\n",
    "\n",
    "# Print concatenated_data to verify\n",
    "print(concatenated_data)"
   ]
  },
  {
   "cell_type": "markdown",
   "id": "1648f1fd-ee42-47cc-883b-a305cd5d0ede",
   "metadata": {},
   "source": [
    "### DATASET\n"
   ]
  },
  {
   "cell_type": "code",
   "execution_count": null,
   "id": "3fe51703-81a3-4964-a102-5fd4ebb1bcb9",
   "metadata": {},
   "outputs": [],
   "source": [
    "from torch_geometric.data import InMemoryDataset\n",
    "import shutil\n",
    "from data.transformation import AddSupernodesHeteroMulti\n",
    "from torch_geometric.data import HeteroData\n",
    "\n",
    "concepts_list = [\n",
    "       {\"name\": \"GMC\", \"fun\": cycle_basis, \"args\": []},\n",
    "]"
   ]
  },
  {
   "cell_type": "code",
   "execution_count": null,
   "id": "1d2ed1de-59da-4374-bde5-5f28f23deabd",
   "metadata": {},
   "outputs": [],
   "source": [
    "class MoleculeHIV_herero_multi(InMemoryDataset):\n",
    "    def __init__(self, root, concepts, transform=None, pre_transform=None):\n",
    "        self.concepts = concepts\n",
    "        super().__init__(root, transform, pre_transform)\n",
    "        self.load(self.processed_paths[0], data_cls=HeteroData)\n",
    "\n",
    "    def raw_file_names(self):\n",
    "        return ['data.pth']        \n",
    "\n",
    "    def processed_file_names(self):\n",
    "        return ['transformed_dataset.pth']\n",
    "\n",
    "\n",
    "    def download(self):\n",
    "        dataset = MoleculeNet(\"./dataset/STEP/\", name=\"HIV\",\n",
    "                              pre_transform=squeeze_y,)\n",
    "        transformed_dataset = [AddSupernodesHeteroMulti(self.concepts)(data) for data in dataset]\n",
    "        torch.save(transformed_dataset, f'{self.raw_dir}/data.pth')\n",
    "\n",
    "    def process(self):\n",
    "        print(self.processed_paths[0])\n",
    "        data_list = torch.load(f'{self.raw_dir}/data.pth')\n",
    "\n",
    "        if self.pre_filter is not None:\n",
    "            data_list = [data for data in data_list if self.pre_filter(data)]\n",
    "\n",
    "        if self.pre_transform is not None:\n",
    "            data_list = [self.pre_transform(data) for data in data_list]\n",
    "\n",
    "        self.save(data_list, f'{self.processed_dir}/transformed_dataset.pth')\n"
   ]
  },
  {
   "cell_type": "code",
   "execution_count": null,
   "id": "a33becd8-c3fd-4c2d-a275-272420f4687b",
   "metadata": {},
   "outputs": [],
   "source": [
    "dataset = MoleculeHIV_herero_multi(\"./dataset/gg\", concepts=concepts_list)"
   ]
  },
  {
   "cell_type": "code",
   "execution_count": null,
   "id": "2780f1ab-8304-406a-ad9d-597399c3f4ba",
   "metadata": {},
   "outputs": [],
   "source": [
    "dataset[4]"
   ]
  },
  {
   "cell_type": "code",
   "execution_count": null,
   "id": "46facc05-ad7d-4c01-919d-5ecc6bc917d9",
   "metadata": {},
   "outputs": [],
   "source": []
  },
  {
   "cell_type": "code",
   "execution_count": null,
   "id": "9b96355d-9361-4528-a84d-77e7854b9c7f",
   "metadata": {},
   "outputs": [],
   "source": [
    "T\n",
    "\n",
    "dataset = MoleculeNet(\"./dataset/STEP/\", name=\"HIV\",\n",
    "                      transform=squeeze_y,)\n"
   ]
  },
  {
   "cell_type": "code",
   "execution_count": 13,
   "id": "f6c52b56-85fd-4ef2-9b4c-23d80e07a9ae",
   "metadata": {},
   "outputs": [
    {
     "name": "stderr",
     "output_type": "stream",
     "text": [
      "Downloading https://deepchemdata.s3-us-west-1.amazonaws.com/datasets/HIV.csv\n",
      "Processing...\n"
     ]
    },
    {
     "name": "stdout",
     "output_type": "stream",
     "text": [
      "eeee\n",
      "zzzzz\n"
     ]
    },
    {
     "name": "stderr",
     "output_type": "stream",
     "text": [
      "Done!\n"
     ]
    }
   ],
   "source": [
    "from data.transformation import AddSupernodesHeteroMulti\n",
    "import torch_geometric.transforms as T\n",
    "\n",
    "\n",
    "def squeeze_y(data):\n",
    "    data.y = data.y.squeeze(1)\n",
    "    data.smiles=None\n",
    "    return data\n",
    "\n",
    "concepts_list = [\n",
    "       {\"name\": \"GCB\", \"fun\": cycle_basis, \"args\": []}, # max_num\n",
    "       {\"name\": \"GMC\", \"fun\": max_cliques, \"args\": []},\n",
    "    ]\n",
    "\n",
    "dataset = MoleculeNet(\"./dataset/uuu\", name=\"HIV\",\n",
    "                      transform=T.Compose([squeeze_y, AddSupernodesHeteroMulti(concepts_list)])\n",
    "                     )\n",
    "loader = DataLoader(dataset, 100,\n",
    "                    shuffle=False, num_workers=0)"
   ]
  },
  {
   "cell_type": "code",
   "execution_count": 14,
   "id": "342cbf92-b2ed-4ef0-ab42-2e318cc8fb02",
   "metadata": {},
   "outputs": [
    {
     "name": "stdout",
     "output_type": "stream",
     "text": [
      "xxxxx\n",
      "0000\n"
     ]
    }
   ],
   "source": [
    "a = next(iter(loader))"
   ]
  },
  {
   "cell_type": "code",
   "execution_count": 15,
   "id": "7072ef96-6970-479e-a8c8-f4045a8e4758",
   "metadata": {},
   "outputs": [
    {
     "data": {
      "text/plain": [
       "HeteroDataBatch(\n",
       "  normal={\n",
       "    x=[1653, 9],\n",
       "    batch=[1653],\n",
       "    ptr=[101],\n",
       "  },\n",
       "  label={ y=[100] },\n",
       "  GCB={\n",
       "    x=[185, 9],\n",
       "    batch=[185],\n",
       "    ptr=[101],\n",
       "  },\n",
       "  GMC={\n",
       "    x=[100, 9],\n",
       "    batch=[100],\n",
       "    ptr=[101],\n",
       "  },\n",
       "  (normal, orig, normal)={\n",
       "    edge_index=[2, 3412],\n",
       "    edge_attr=[3412, 3],\n",
       "  },\n",
       "  (normal, identity, normal)={ edge_index=[2, 1653] },\n",
       "  (normal, toSup, GCB)={ edge_index=[2, 943] },\n",
       "  (GCB, toNor, normal)={ edge_index=[2, 943] },\n",
       "  (GCB, identity, GCB)={ edge_index=[2, 161] }\n",
       ")"
      ]
     },
     "execution_count": 15,
     "metadata": {},
     "output_type": "execute_result"
    }
   ],
   "source": [
    "a"
   ]
  },
  {
   "cell_type": "code",
   "execution_count": 16,
   "id": "5792d7f3-d040-4fda-9101-c59e327c144e",
   "metadata": {},
   "outputs": [
    {
     "data": {
      "text/plain": [
       "{'edge_index': tensor([[   3,    4,    5,  ..., 1328, 1329, 1324],\n",
       "        [   0,    0,    0,  ...,  160,  160,  160]])}"
      ]
     },
     "execution_count": 16,
     "metadata": {},
     "output_type": "execute_result"
    }
   ],
   "source": [
    "a['normal', 'toSup', 'GCB']"
   ]
  },
  {
   "cell_type": "code",
   "execution_count": null,
   "id": "a8040d75-9993-451d-86a1-94720decc86c",
   "metadata": {},
   "outputs": [],
   "source": []
  },
  {
   "cell_type": "markdown",
   "id": "f5cedf2b-71fd-41e7-a51e-6f73022ab12f",
   "metadata": {},
   "source": [
    "# LIGHT"
   ]
  },
  {
   "cell_type": "code",
   "execution_count": 271,
   "id": "22f9effe-9206-4c92-9a90-a7efd3cfd796",
   "metadata": {},
   "outputs": [],
   "source": [
    "from data.dataset import MoleculeHIV_hetero_multi_NetDataModule\n",
    "import hashlib\n",
    "\n",
    "BATCH_SIZE = 100\n",
    "\n",
    "concepts_list = [\n",
    "       {\"name\": \"GCB\", \"fun\": cycle_basis, \"args\": []}, # max_num\n",
    "    ]\n",
    "supnodes_name = [concept['name'] for concept in concepts_list]\n",
    "\n",
    "path_name = ''.join(map(lambda x: x['name'] + str(x['args']), concepts_list))\n",
    "hash_name = hashlib.sha256(path_name.encode('utf-8')).hexdigest()\n",
    "dataset_name = f\"HIV_supernode_hetero_multi_{hash_name}\"\n",
    "\n",
    "dm = MoleculeHIV_hetero_multi_NetDataModule(f'./dataset/{dataset_name}',\n",
    "                              concept_list=concepts_list, batch_size=1,\n",
    "                              train_prop=0.6, test_prop=0.2, val_prop=0.2,\n",
    "                              num_workers=0\n",
    "                              )\n",
    "dm.setup()"
   ]
  },
  {
   "cell_type": "code",
   "execution_count": 272,
   "id": "03db9d84-e131-40ea-b5f1-6356b0fb7cb9",
   "metadata": {},
   "outputs": [],
   "source": [
    "td = dm.val_dataloader()\n",
    "itd = iter(td)\n",
    "a = next(itd)\n",
    "b = next(itd)"
   ]
  },
  {
   "cell_type": "code",
   "execution_count": 273,
   "id": "7b0d2346-fe02-4125-b4d4-4a2da14dc6b6",
   "metadata": {},
   "outputs": [
    {
     "data": {
      "text/plain": [
       "HeteroDataBatch(\n",
       "  normal={\n",
       "    x=[23, 9],\n",
       "    batch=[23],\n",
       "    ptr=[2],\n",
       "  },\n",
       "  label={ y=[1] },\n",
       "  GCB={\n",
       "    x=[2, 9],\n",
       "    batch=[2],\n",
       "    ptr=[2],\n",
       "  },\n",
       "  (normal, orig, normal)={\n",
       "    edge_index=[2, 48],\n",
       "    edge_attr=[48, 3],\n",
       "  },\n",
       "  (normal, identity, normal)={ edge_index=[2, 23] },\n",
       "  (normal, toSup, GCB)={ edge_index=[2, 18] },\n",
       "  (GCB, toNor, normal)={ edge_index=[2, 18] },\n",
       "  (GCB, identity, GCB)={ edge_index=[2, 3] }\n",
       ")"
      ]
     },
     "execution_count": 273,
     "metadata": {},
     "output_type": "execute_result"
    }
   ],
   "source": [
    "a"
   ]
  },
  {
   "cell_type": "code",
   "execution_count": 245,
   "id": "7f8b1e81-ba1b-435b-b10e-dee51fdc4848",
   "metadata": {},
   "outputs": [
    {
     "data": {
      "text/plain": [
       "tensor([[19, 20, 21, 23, 24, 18,  9, 10, 11, 13, 14,  8,  4,  5,  6, 15, 25,  2],\n",
       "        [ 0,  0,  0,  0,  0,  0,  1,  1,  1,  1,  1,  1,  2,  2,  2,  2,  2,  2]])"
      ]
     },
     "execution_count": 245,
     "metadata": {},
     "output_type": "execute_result"
    }
   ],
   "source": [
    "a['normal', 'toSup', 'GCB'].edge_index"
   ]
  },
  {
   "cell_type": "code",
   "execution_count": 106,
   "id": "d2cca061-c10e-46d3-80a5-e845c092065b",
   "metadata": {},
   "outputs": [
    {
     "data": {
      "text/plain": [
       "tensor([[1., 1., 1., 1., 1., 1., 1., 1., 1.],\n",
       "        [1., 1., 1., 1., 1., 1., 1., 1., 1.]])"
      ]
     },
     "execution_count": 106,
     "metadata": {},
     "output_type": "execute_result"
    }
   ],
   "source": [
    "a['GCB'].x"
   ]
  },
  {
   "cell_type": "code",
   "execution_count": 107,
   "id": "903c8541-1540-414d-b94d-755772ea9d2c",
   "metadata": {},
   "outputs": [
    {
     "data": {
      "text/plain": [
       "HeteroDataBatch(\n",
       "  normal={\n",
       "    x=[30, 9],\n",
       "    batch=[30],\n",
       "    ptr=[2],\n",
       "  },\n",
       "  label={ y=[1] },\n",
       "  GCB={\n",
       "    x=[4, 9],\n",
       "    batch=[4],\n",
       "    ptr=[2],\n",
       "  },\n",
       "  (normal, orig, normal)={\n",
       "    edge_index=[2, 66],\n",
       "    edge_attr=[66, 3],\n",
       "  },\n",
       "  (normal, identity, normal)={ edge_index=[2, 30] },\n",
       "  (normal, toSup, GCB)={ edge_index=[2, 22] },\n",
       "  (GCB, toNor, normal)={ edge_index=[2, 22] },\n",
       "  (GCB, identity, GCB)={ edge_index=[2, 4] }\n",
       ")"
      ]
     },
     "execution_count": 107,
     "metadata": {},
     "output_type": "execute_result"
    }
   ],
   "source": [
    "b"
   ]
  },
  {
   "cell_type": "code",
   "execution_count": 108,
   "id": "eebf26c8-4370-49e6-93bf-f4b3145216e9",
   "metadata": {},
   "outputs": [
    {
     "data": {
      "text/plain": [
       "tensor([[18, 19, 20, 21, 22, 17,  7,  8,  9, 10, 11,  6,  9, 14, 13, 12, 10,  2,\n",
       "          3,  4, 15,  1],\n",
       "        [ 0,  0,  0,  0,  0,  0,  1,  1,  1,  1,  1,  1,  2,  2,  2,  2,  2,  3,\n",
       "          3,  3,  3,  3]])"
      ]
     },
     "execution_count": 108,
     "metadata": {},
     "output_type": "execute_result"
    }
   ],
   "source": [
    "b['normal', 'toSup', 'GCB'].edge_index"
   ]
  },
  {
   "cell_type": "code",
   "execution_count": null,
   "id": "b687277a-f324-4148-85e8-d62d8d34fb4e",
   "metadata": {},
   "outputs": [],
   "source": []
  },
  {
   "cell_type": "code",
   "execution_count": 246,
   "id": "95f486e4-2fb0-47c2-ab06-767a0bca0d0e",
   "metadata": {},
   "outputs": [],
   "source": [
    "from data.dataset import MoleculeHIVNetDataModule\n",
    "import hashlib\n",
    "\n",
    "BATCH_SIZE = 100\n",
    "\n",
    "dm = MoleculeHIVNetDataModule(\"./dataset/Molecule_normaleee\", batch_size=1,\n",
    "                              train_prop=0.6, test_prop=0.2, val_prop=0.2,\n",
    "                              pre_transform=squeeze_y,\n",
    "                              )\n",
    "dm.setup()"
   ]
  },
  {
   "cell_type": "code",
   "execution_count": 247,
   "id": "fd096b4a-7058-49e0-82a3-2879fd702e6f",
   "metadata": {},
   "outputs": [],
   "source": [
    "td = dm.val_dataloader()\n",
    "itd = iter(td)\n",
    "aT = next(itd)\n",
    "bT = next(itd)"
   ]
  },
  {
   "cell_type": "code",
   "execution_count": 248,
   "id": "7bf87ad9-0349-470e-bd0d-c83e527ee9fb",
   "metadata": {},
   "outputs": [
    {
     "data": {
      "text/plain": [
       "DataBatch(x=[23, 9], edge_index=[2, 48], edge_attr=[48, 3], y=[1], batch=[23], ptr=[2])"
      ]
     },
     "execution_count": 248,
     "metadata": {},
     "output_type": "execute_result"
    }
   ],
   "source": [
    "aT"
   ]
  },
  {
   "cell_type": "code",
   "execution_count": 254,
   "id": "b2365862-77f6-4d50-b05d-c2116fa43bec",
   "metadata": {},
   "outputs": [
    {
     "data": {
      "text/plain": [
       "[[4, 15, 17, 18, 20, 3], [6, 7, 11, 14, 5]]"
      ]
     },
     "execution_count": 254,
     "metadata": {},
     "output_type": "execute_result"
    }
   ],
   "source": [
    "from torch_geometric.utils import to_networkx\n",
    "import networkx as nx\n",
    "\n",
    "G = to_networkx(aT, to_undirected=True)\n",
    "cycle_basis(G)"
   ]
  },
  {
   "cell_type": "code",
   "execution_count": 255,
   "id": "eb23db50-dc36-4ec3-9f8a-745df865f528",
   "metadata": {},
   "outputs": [],
   "source": [
    "concepts_list = [\n",
    "       {\"name\": \"GCB\", \"fun\": cycle_basis, \"args\": []}, # max_num\n",
    "    ]\n",
    "aT2 = AddSupernodesHeteroMulti(concepts_list)(aT)"
   ]
  },
  {
   "cell_type": "code",
   "execution_count": 256,
   "id": "4a6d9d89-23b3-4c09-ade3-6e58c7054bb9",
   "metadata": {},
   "outputs": [
    {
     "data": {
      "text/plain": [
       "HeteroData(\n",
       "  normal={ x=[23, 9] },\n",
       "  label={ y=[1] },\n",
       "  GCB={ x=[2, 9] },\n",
       "  (normal, orig, normal)={\n",
       "    edge_index=[2, 48],\n",
       "    edge_attr=[48, 3],\n",
       "  },\n",
       "  (normal, identity, normal)={ edge_index=[2, 23] },\n",
       "  (normal, toSup, GCB)={ edge_index=[2, 11] },\n",
       "  (GCB, toNor, normal)={ edge_index=[2, 11] },\n",
       "  (GCB, identity, GCB)={ edge_index=[2, 2] }\n",
       ")"
      ]
     },
     "execution_count": 256,
     "metadata": {},
     "output_type": "execute_result"
    }
   ],
   "source": [
    "aT2"
   ]
  },
  {
   "cell_type": "code",
   "execution_count": 117,
   "id": "105c0eff-f618-4f3d-bfc5-5edc7bb6048c",
   "metadata": {},
   "outputs": [
    {
     "data": {
      "text/plain": [
       "tensor([[ 4, 15, 17, 18, 20,  3,  6,  7, 11, 14,  5],\n",
       "        [ 0,  0,  0,  0,  0,  0,  1,  1,  1,  1,  1]])"
      ]
     },
     "execution_count": 117,
     "metadata": {},
     "output_type": "execute_result"
    }
   ],
   "source": [
    "aT2['normal','toSup','GCB'].edge_index"
   ]
  },
  {
   "cell_type": "code",
   "execution_count": 114,
   "id": "d123c7f5-5d90-4afe-a7af-e8a700fb5dfc",
   "metadata": {},
   "outputs": [
    {
     "data": {
      "text/plain": [
       "HeteroDataBatch(\n",
       "  normal={\n",
       "    x=[23, 9],\n",
       "    batch=[23],\n",
       "    ptr=[2],\n",
       "  },\n",
       "  label={ y=[1] },\n",
       "  GCB={\n",
       "    x=[2, 9],\n",
       "    batch=[2],\n",
       "    ptr=[2],\n",
       "  },\n",
       "  (normal, orig, normal)={\n",
       "    edge_index=[2, 48],\n",
       "    edge_attr=[48, 3],\n",
       "  },\n",
       "  (normal, identity, normal)={ edge_index=[2, 23] },\n",
       "  (normal, toSup, GCB)={ edge_index=[2, 18] },\n",
       "  (GCB, toNor, normal)={ edge_index=[2, 18] },\n",
       "  (GCB, identity, GCB)={ edge_index=[2, 3] }\n",
       ")"
      ]
     },
     "execution_count": 114,
     "metadata": {},
     "output_type": "execute_result"
    }
   ],
   "source": [
    "a"
   ]
  },
  {
   "cell_type": "code",
   "execution_count": 118,
   "id": "bb8ee939-e754-41eb-bdde-92dc42959ba2",
   "metadata": {},
   "outputs": [
    {
     "data": {
      "text/plain": [
       "tensor([[19, 20, 21, 23, 24, 18,  9, 10, 11, 13, 14,  8,  4,  5,  6, 15, 25,  2],\n",
       "        [ 0,  0,  0,  0,  0,  0,  1,  1,  1,  1,  1,  1,  2,  2,  2,  2,  2,  2]])"
      ]
     },
     "execution_count": 118,
     "metadata": {},
     "output_type": "execute_result"
    }
   ],
   "source": [
    "a['normal','toSup','GCB'].edge_index"
   ]
  },
  {
   "cell_type": "code",
   "execution_count": null,
   "id": "316cae53-2112-4cdb-82b9-8ff05fb9b73f",
   "metadata": {},
   "outputs": [],
   "source": []
  },
  {
   "cell_type": "code",
   "execution_count": null,
   "id": "f89e5543-3f4d-410c-bd5d-3b4ff2523e8f",
   "metadata": {},
   "outputs": [],
   "source": []
  },
  {
   "cell_type": "code",
   "execution_count": 260,
   "id": "3d8d6475-b779-4077-b178-5522b2d5d8cc",
   "metadata": {},
   "outputs": [],
   "source": [
    "from data.transformation import AddSupernodesHeteroMulti\n",
    "import torch_geometric.transforms as T\n",
    "\n",
    "\n",
    "def squeeze_y(data):\n",
    "    data.y = data.y.squeeze(1)\n",
    "    data.smiles=None\n",
    "    return data\n",
    "\n",
    "concepts_list = [\n",
    "       {\"name\": \"GCB\", \"fun\": cycle_basis, \"args\": []}, # max_num\n",
    "    ]\n",
    "\n",
    "dm = MoleculeHIVNetDataModule(\"./dataset/Molecule_normaleee111\", batch_size=1,\n",
    "                              train_prop=0.6, test_prop=0.2, val_prop=0.2,\n",
    "                              transform=T.Compose([squeeze_y, AddSupernodesHeteroMulti(concepts_list)]),\n",
    "                              num_workers=4\n",
    "                              )\n",
    "dm.setup()"
   ]
  },
  {
   "cell_type": "code",
   "execution_count": 261,
   "id": "f7079e0d-dce8-4cb5-8aad-52ccb869f4a2",
   "metadata": {},
   "outputs": [],
   "source": [
    "td = dm.train_dataloader()\n",
    "itd = iter(td)\n",
    "aT = next(itd)\n",
    "bT = next(itd)"
   ]
  },
  {
   "cell_type": "code",
   "execution_count": 262,
   "id": "5b6d0d90-34d8-48f2-b559-47b7784e8123",
   "metadata": {},
   "outputs": [
    {
     "data": {
      "text/plain": [
       "HeteroDataBatch(\n",
       "  normal={\n",
       "    x=[19, 9],\n",
       "    batch=[19],\n",
       "    ptr=[2],\n",
       "  },\n",
       "  label={ y=[1] },\n",
       "  GCB={\n",
       "    x=[2, 9],\n",
       "    batch=[2],\n",
       "    ptr=[2],\n",
       "  },\n",
       "  (normal, orig, normal)={\n",
       "    edge_index=[2, 40],\n",
       "    edge_attr=[40, 3],\n",
       "  },\n",
       "  (normal, identity, normal)={ edge_index=[2, 19] },\n",
       "  (normal, toSup, GCB)={ edge_index=[2, 12] },\n",
       "  (GCB, toNor, normal)={ edge_index=[2, 12] },\n",
       "  (GCB, identity, GCB)={ edge_index=[2, 2] }\n",
       ")"
      ]
     },
     "execution_count": 262,
     "metadata": {},
     "output_type": "execute_result"
    }
   ],
   "source": [
    "aT"
   ]
  },
  {
   "cell_type": "code",
   "execution_count": 207,
   "id": "716a0cd8-ce86-416c-b162-93c85c096d71",
   "metadata": {},
   "outputs": [
    {
     "data": {
      "text/plain": [
       "tensor([[  0,   1,   2,   3,   4,   5,   6,   7,   8,   9,  10,  11,  12,  13,\n",
       "          14,  15,  16,  17,  18,  19,  20,  21,  22,  23,  24,  25,  26,  27,\n",
       "          28,  29,  30,  31,  32,  33,  34,  35,  36,  37,  38,  39,  40,  41,\n",
       "          42,  43,  44,  45,  46,  47,  48,  49,  50,  51,  52,  53,  54,  55,\n",
       "          56,  57,  58,  59,  60,  61,  62,  63,  64,  65,  66,  67,  68,  69,\n",
       "          70,  71,  72,  73,  74,  75,  76,  77,  78,  79,  80,  81,  82,  83,\n",
       "          84,  85,  86,  87,  88,  89,  90,  91,  92,  93,  94,  95,  96,  97,\n",
       "          98,  99, 100, 101, 102, 103, 104, 105, 106, 107, 108, 109, 110, 111,\n",
       "         112, 113, 114, 115, 116, 117, 118, 119, 120, 121, 122, 123, 124, 125,\n",
       "         126, 127, 128, 129, 130, 131, 132, 133, 134, 135, 136, 137, 138, 139,\n",
       "         140, 141, 142, 143, 144, 145, 146, 147, 148, 149, 150, 151, 152, 153,\n",
       "         154, 155, 156, 157, 158, 159, 160, 161, 162, 163, 164, 165, 166, 167,\n",
       "         168, 169, 170, 171, 172, 173, 174, 175, 176, 177, 178, 179, 180, 181,\n",
       "         182, 183, 184, 185, 186, 187, 188, 189, 190, 191, 192, 193, 194, 195,\n",
       "         196, 197, 198, 199, 200, 201, 202, 203, 204, 205, 206, 207, 208, 209,\n",
       "         210, 211, 212, 213, 214, 215, 216, 217, 218, 219, 220, 221, 222, 223,\n",
       "         224, 225, 226, 227, 228, 229, 230, 231, 232, 233, 234, 235, 236, 237,\n",
       "         238, 239, 240, 241, 242, 243, 244, 245, 246, 247, 248, 249, 250, 251,\n",
       "         252, 253, 254, 255, 256, 257, 258, 259, 260, 261, 262, 263, 264, 265,\n",
       "         266, 267, 268, 269, 270, 271, 272, 273, 274, 275, 276, 277, 278, 279,\n",
       "         280, 281, 282, 283, 284, 285, 286, 287, 288, 289, 290, 291, 292, 293,\n",
       "         294, 295, 296, 297, 298, 299, 300, 301, 302, 303, 304, 305, 306, 307,\n",
       "         308, 309, 310, 311, 312, 313, 314, 315, 316, 317, 318, 319, 320, 321,\n",
       "         322, 323, 324, 325, 326, 327, 328, 329, 330, 331, 332, 333, 334, 335,\n",
       "         336, 337, 338, 339, 340, 341, 342, 343, 344, 345, 346, 347, 348, 349,\n",
       "         350, 351, 352, 353, 354, 355, 356, 357, 358, 359, 360, 361, 362, 363,\n",
       "         364, 365, 366, 367, 368, 369, 370, 371, 372, 373, 374, 375, 376, 377,\n",
       "         378, 379, 380, 381, 382, 383, 384, 385, 386, 387, 388, 389, 390, 391],\n",
       "        [  0,   1,   2,   3,   4,   5,   6,   7,   8,   9,  10,  11,  12,  13,\n",
       "          14,  15,  16,  17,  18,  19,  20,  21,  22,  23,  24,  25,  26,  27,\n",
       "          28,  29,  30,  31,  32,  33,  34,  35,  36,  37,  38,  39,  40,  41,\n",
       "          42,  43,  44,  45,  46,  47,  48,  49,  50,  51,  52,  53,  54,  55,\n",
       "          56,  57,  58,  59,  60,  61,  62,  63,  64,  65,  66,  67,  68,  69,\n",
       "          70,  71,  72,  73,  74,  75,  76,  77,  78,  79,  80,  81,  82,  83,\n",
       "          84,  85,  86,  87,  88,  89,  90,  91,  92,  93,  94,  95,  96,  97,\n",
       "          98,  99, 100, 101, 102, 103, 104, 105, 106, 107, 108, 109, 110, 111,\n",
       "         112, 113, 114, 115, 116, 117, 118, 119, 120, 121, 122, 123, 124, 125,\n",
       "         126, 127, 128, 129, 130, 131, 132, 133, 134, 135, 136, 137, 138, 139,\n",
       "         140, 141, 142, 143, 144, 145, 146, 147, 148, 149, 150, 151, 152, 153,\n",
       "         154, 155, 156, 157, 158, 159, 160, 161, 162, 163, 164, 165, 166, 167,\n",
       "         168, 169, 170, 171, 172, 173, 174, 175, 176, 177, 178, 179, 180, 181,\n",
       "         182, 183, 184, 185, 186, 187, 188, 189, 190, 191, 192, 193, 194, 195,\n",
       "         196, 197, 198, 199, 200, 201, 202, 203, 204, 205, 206, 207, 208, 209,\n",
       "         210, 211, 212, 213, 214, 215, 216, 217, 218, 219, 220, 221, 222, 223,\n",
       "         224, 225, 226, 227, 228, 229, 230, 231, 232, 233, 234, 235, 236, 237,\n",
       "         238, 239, 240, 241, 242, 243, 244, 245, 246, 247, 248, 249, 250, 251,\n",
       "         252, 253, 254, 255, 256, 257, 258, 259, 260, 261, 262, 263, 264, 265,\n",
       "         266, 267, 268, 269, 270, 271, 272, 273, 274, 275, 276, 277, 278, 279,\n",
       "         280, 281, 282, 283, 284, 285, 286, 287, 288, 289, 290, 291, 292, 293,\n",
       "         294, 295, 296, 297, 298, 299, 300, 301, 302, 303, 304, 305, 306, 307,\n",
       "         308, 309, 310, 311, 312, 313, 314, 315, 316, 317, 318, 319, 320, 321,\n",
       "         322, 323, 324, 325, 326, 327, 328, 329, 330, 331, 332, 333, 334, 335,\n",
       "         336, 337, 338, 339, 340, 341, 342, 343, 344, 345, 346, 347, 348, 349,\n",
       "         350, 351, 352, 353, 354, 355, 356, 357, 358, 359, 360, 361, 362, 363,\n",
       "         364, 365, 366, 367, 368, 369, 370, 371, 372, 373, 374, 375, 376, 377,\n",
       "         378, 379, 380, 381, 382, 383, 384, 385, 386, 387, 388, 389, 390, 391]])"
      ]
     },
     "execution_count": 207,
     "metadata": {},
     "output_type": "execute_result"
    }
   ],
   "source": [
    "aT['GCB','identity','GCB'].edge_index"
   ]
  },
  {
   "cell_type": "code",
   "execution_count": null,
   "id": "1b3de459-71b4-453a-8743-d4b99b9ec6a6",
   "metadata": {},
   "outputs": [],
   "source": []
  },
  {
   "cell_type": "code",
   "execution_count": null,
   "id": "e3f8cc21-ba04-4570-bf25-7bee26f2fe1d",
   "metadata": {},
   "outputs": [],
   "source": []
  },
  {
   "cell_type": "code",
   "execution_count": 266,
   "id": "f0f4f7b2-1756-473f-aafb-9473aa449e54",
   "metadata": {},
   "outputs": [],
   "source": [
    "from data.transformation import AddSupernodesHeteroMulti\n",
    "import torch_geometric.transforms as T\n",
    "\n",
    "\n",
    "def squeeze_y(data):\n",
    "    data.y = data.y.squeeze(1)\n",
    "    data.smiles=None\n",
    "    return data\n",
    "\n",
    "concepts_list = [\n",
    "       {\"name\": \"GCB\", \"fun\": cycle_basis, \"args\": []}, # max_num\n",
    "    ]\n",
    "\n",
    "dm = MoleculeHIVNetDataModule(\"./dataset/Molecule_normaleee111222\", batch_size=1,\n",
    "                              train_prop=0.6, test_prop=0.2, val_prop=0.2,\n",
    "                              pre_transform=T.Compose([squeeze_y, AddSupernodesHeteroMulti(concepts_list)]),\n",
    "                              num_workers=0\n",
    "                              )\n",
    "dm.setup()"
   ]
  },
  {
   "cell_type": "code",
   "execution_count": 269,
   "id": "52754298-f479-4512-9cb4-5bd1b0bd44e0",
   "metadata": {},
   "outputs": [],
   "source": [
    "td = dm.val_dataloader()\n",
    "itd = iter(td)\n",
    "aT = next(itd)\n",
    "bT = next(itd)"
   ]
  },
  {
   "cell_type": "code",
   "execution_count": 270,
   "id": "b40ec991-a7c8-4210-b3a6-20c04112f320",
   "metadata": {},
   "outputs": [
    {
     "data": {
      "text/plain": [
       "HeteroDataBatch(\n",
       "  normal={\n",
       "    x=[23, 9],\n",
       "    batch=[23],\n",
       "    ptr=[2],\n",
       "  },\n",
       "  label={ y=[1] },\n",
       "  GCB={\n",
       "    x=[2, 9],\n",
       "    batch=[2],\n",
       "    ptr=[2],\n",
       "  },\n",
       "  (normal, orig, normal)={\n",
       "    edge_index=[2, 48],\n",
       "    edge_attr=[48, 3],\n",
       "  },\n",
       "  (normal, identity, normal)={ edge_index=[2, 23] },\n",
       "  (normal, toSup, GCB)={ edge_index=[2, 18] },\n",
       "  (GCB, toNor, normal)={ edge_index=[2, 18] },\n",
       "  (GCB, identity, GCB)={ edge_index=[2, 3] }\n",
       ")"
      ]
     },
     "execution_count": 270,
     "metadata": {},
     "output_type": "execute_result"
    }
   ],
   "source": [
    "aT"
   ]
  },
  {
   "cell_type": "code",
   "execution_count": null,
   "id": "000edaf6-87ae-4584-a2e1-a6e24a8fc047",
   "metadata": {},
   "outputs": [],
   "source": []
  },
  {
   "cell_type": "code",
   "execution_count": 177,
   "id": "8e7476f9-809c-4b73-840a-6b44ee66eb5e",
   "metadata": {},
   "outputs": [],
   "source": [
    "loaded_dataset = []\n",
    "loaded_dataset = torch.load(\"./dataset/HIV_supernode_hetero_multi_fb29bedbe192593aeebc9d5b07254bb2420628da983f4e051acf534b8f436426/raw/data.pth\")"
   ]
  },
  {
   "cell_type": "code",
   "execution_count": 187,
   "id": "189c14e9-038d-48c8-ac62-084384b75b7b",
   "metadata": {},
   "outputs": [
    {
     "data": {
      "text/plain": [
       "<torch_geometric.loader.dataloader.DataLoader at 0x7f71cd49fa90>"
      ]
     },
     "execution_count": 187,
     "metadata": {},
     "output_type": "execute_result"
    }
   ],
   "source": []
  },
  {
   "cell_type": "code",
   "execution_count": null,
   "id": "338becd1-5ce5-476b-87e0-867599dcd7a4",
   "metadata": {},
   "outputs": [],
   "source": []
  },
  {
   "cell_type": "code",
   "execution_count": null,
   "id": "7e92fb64-26d4-4742-916a-7a57941b1a54",
   "metadata": {},
   "outputs": [],
   "source": []
  },
  {
   "cell_type": "code",
   "execution_count": null,
   "id": "8fc8d103-3e75-45ac-8348-371e0ad787fd",
   "metadata": {},
   "outputs": [],
   "source": []
  },
  {
   "cell_type": "code",
   "execution_count": 216,
   "id": "550a58d0-a479-4393-8e9f-fdf0e25d467e",
   "metadata": {},
   "outputs": [
    {
     "name": "stderr",
     "output_type": "stream",
     "text": [
      "Downloading https://deepchemdata.s3-us-west-1.amazonaws.com/datasets/HIV.csv\n",
      "Processing...\n",
      "Done!\n"
     ]
    }
   ],
   "source": [
    "dataset = MoleculeNet(\"./dataset/atlol\", name=\"HIV\",\n",
    "                     pre_transform=squeeze_y,)"
   ]
  },
  {
   "cell_type": "code",
   "execution_count": 218,
   "id": "845bdf1a-1901-46ba-877e-0fcc3871b8a5",
   "metadata": {},
   "outputs": [],
   "source": [
    "concepts_list = [\n",
    "       {\"name\": \"GCB\", \"fun\": cycle_basis, \"args\": []}, # max_num\n",
    "    ]\n",
    "transformed_dataset = [AddSupernodesHeteroMulti(concepts_list)(data) for data in dataset]"
   ]
  },
  {
   "cell_type": "code",
   "execution_count": 230,
   "id": "a86d78c4-3c1e-4cf4-b555-c9cf1535469b",
   "metadata": {},
   "outputs": [],
   "source": [
    "from torch_geometric.loader import DataLoader\n",
    "loader = DataLoader(transformed_dataset, batch_size=1)\n"
   ]
  },
  {
   "cell_type": "code",
   "execution_count": 239,
   "id": "720b16d7-6195-4d35-a950-ab532a402a0e",
   "metadata": {},
   "outputs": [
    {
     "name": "stdout",
     "output_type": "stream",
     "text": [
      "hello\n",
      "hello\n",
      "hello\n",
      "hello\n",
      "hello\n",
      "hello\n",
      "hello\n",
      "hello\n",
      "hello\n",
      "hello\n",
      "hello\n",
      "hello\n",
      "hello\n",
      "hello\n",
      "hello\n",
      "hello\n",
      "hello\n",
      "hello\n",
      "hello\n",
      "hello\n",
      "hello\n",
      "hello\n",
      "hello\n",
      "hello\n",
      "hello\n",
      "hello\n",
      "hello\n",
      "hello\n",
      "hello\n",
      "hello\n",
      "hello\n",
      "hello\n",
      "hello\n",
      "hello\n",
      "hello\n",
      "hello\n",
      "hello\n",
      "hello\n",
      "hello\n",
      "hello\n",
      "hello\n",
      "hello\n",
      "hello\n",
      "hello\n",
      "hello\n",
      "hello\n",
      "hello\n",
      "hello\n",
      "hello\n",
      "hello\n",
      "hello\n",
      "hello\n",
      "hello\n",
      "hello\n",
      "hello\n",
      "hello\n",
      "hello\n",
      "hello\n",
      "hello\n",
      "hello\n",
      "hello\n",
      "hello\n",
      "hello\n",
      "hello\n",
      "hello\n",
      "hello\n",
      "hello\n",
      "hello\n",
      "hello\n",
      "hello\n",
      "hello\n",
      "hello\n",
      "hello\n",
      "hello\n",
      "hello\n",
      "hello\n",
      "hello\n",
      "hello\n",
      "hello\n",
      "hello\n",
      "hello\n",
      "hello\n",
      "hello\n",
      "hello\n",
      "hello\n",
      "hello\n",
      "hello\n",
      "hello\n",
      "hello\n",
      "hello\n",
      "hello\n",
      "hello\n",
      "hello\n",
      "hello\n",
      "hello\n",
      "hello\n",
      "hello\n",
      "hello\n",
      "hello\n",
      "hello\n",
      "hello\n",
      "hello\n",
      "hello\n",
      "hello\n",
      "hello\n",
      "hello\n",
      "hello\n",
      "hello\n",
      "hello\n",
      "hello\n",
      "hello\n",
      "hello\n",
      "hello\n",
      "hello\n",
      "hello\n",
      "hello\n",
      "hello\n",
      "hello\n",
      "hello\n",
      "hello\n",
      "hello\n",
      "hello\n",
      "hello\n",
      "hello\n",
      "hello\n",
      "hello\n",
      "hello\n",
      "hello\n",
      "hello\n",
      "hello\n",
      "hello\n",
      "hello\n",
      "hello\n",
      "hello\n",
      "hello\n",
      "hello\n",
      "hello\n",
      "hello\n",
      "hello\n",
      "hello\n",
      "hello\n",
      "hello\n",
      "hello\n",
      "hello\n",
      "hello\n",
      "hello\n",
      "hello\n",
      "hello\n",
      "hello\n",
      "hello\n",
      "hello\n",
      "hello\n",
      "hello\n",
      "hello\n",
      "hello\n",
      "hello\n",
      "hello\n",
      "hello\n",
      "hello\n",
      "hello\n",
      "hello\n",
      "hello\n",
      "hello\n",
      "hello\n",
      "hello\n",
      "hello\n",
      "hello\n",
      "hello\n",
      "hello\n",
      "hello\n",
      "hello\n",
      "hello\n",
      "hello\n",
      "hello\n",
      "hello\n",
      "hello\n",
      "hello\n",
      "hello\n",
      "hello\n",
      "hello\n",
      "hello\n",
      "hello\n",
      "hello\n",
      "hello\n",
      "hello\n",
      "hello\n",
      "hello\n",
      "hello\n",
      "hello\n",
      "hello\n",
      "hello\n",
      "hello\n",
      "hello\n",
      "hello\n",
      "hello\n",
      "hello\n",
      "hello\n",
      "hello\n",
      "hello\n",
      "hello\n",
      "hello\n",
      "hello\n",
      "hello\n",
      "hello\n",
      "hello\n",
      "hello\n",
      "hello\n",
      "hello\n",
      "hello\n",
      "hello\n",
      "hello\n",
      "hello\n",
      "hello\n",
      "hello\n",
      "hello\n",
      "hello\n",
      "hello\n",
      "hello\n",
      "hello\n",
      "hello\n",
      "hello\n",
      "hello\n",
      "hello\n",
      "hello\n",
      "hello\n",
      "hello\n",
      "hello\n",
      "hello\n",
      "hello\n",
      "hello\n",
      "hello\n",
      "hello\n",
      "hello\n",
      "hello\n",
      "hello\n",
      "hello\n",
      "hello\n",
      "hello\n",
      "hello\n",
      "hello\n",
      "hello\n",
      "hello\n",
      "hello\n",
      "hello\n",
      "hello\n",
      "hello\n",
      "hello\n",
      "hello\n",
      "hello\n",
      "hello\n",
      "hello\n",
      "hello\n",
      "hello\n",
      "hello\n",
      "hello\n",
      "hello\n",
      "hello\n",
      "hello\n",
      "hello\n",
      "hello\n",
      "hello\n",
      "hello\n",
      "hello\n",
      "hello\n",
      "hello\n",
      "hello\n",
      "hello\n",
      "hello\n",
      "hello\n",
      "hello\n",
      "hello\n",
      "hello\n",
      "hello\n",
      "hello\n",
      "hello\n",
      "hello\n",
      "hello\n",
      "hello\n",
      "hello\n",
      "hello\n",
      "hello\n",
      "hello\n",
      "hello\n",
      "hello\n",
      "hello\n",
      "hello\n",
      "hello\n",
      "hello\n",
      "hello\n",
      "hello\n",
      "hello\n",
      "hello\n",
      "hello\n",
      "hello\n",
      "hello\n",
      "hello\n",
      "hello\n",
      "hello\n",
      "hello\n",
      "hello\n",
      "hello\n",
      "hello\n",
      "hello\n",
      "hello\n",
      "hello\n",
      "hello\n",
      "hello\n",
      "hello\n",
      "hello\n",
      "hello\n",
      "hello\n",
      "hello\n",
      "hello\n",
      "hello\n",
      "hello\n",
      "hello\n",
      "hello\n",
      "hello\n",
      "hello\n",
      "hello\n",
      "hello\n",
      "hello\n",
      "hello\n",
      "hello\n",
      "hello\n",
      "hello\n",
      "hello\n",
      "hello\n",
      "hello\n",
      "hello\n",
      "hello\n",
      "hello\n",
      "hello\n",
      "hello\n",
      "hello\n",
      "hello\n",
      "hello\n",
      "hello\n",
      "hello\n",
      "hello\n",
      "hello\n",
      "hello\n",
      "hello\n",
      "hello\n",
      "hello\n",
      "hello\n",
      "hello\n"
     ]
    },
    {
     "ename": "KeyboardInterrupt",
     "evalue": "",
     "output_type": "error",
     "traceback": [
      "\u001b[0;31m---------------------------------------------------------------------------\u001b[0m",
      "\u001b[0;31mKeyboardInterrupt\u001b[0m                         Traceback (most recent call last)",
      "Cell \u001b[0;32mIn[239], line 3\u001b[0m\n\u001b[1;32m      1\u001b[0m \u001b[38;5;28mnext\u001b[39m(\u001b[38;5;28miter\u001b[39m(loader))[\u001b[38;5;124m'\u001b[39m\u001b[38;5;124mGCB\u001b[39m\u001b[38;5;124m'\u001b[39m, \u001b[38;5;124m'\u001b[39m\u001b[38;5;124midentity\u001b[39m\u001b[38;5;124m'\u001b[39m, \u001b[38;5;124m'\u001b[39m\u001b[38;5;124mGCB\u001b[39m\u001b[38;5;124m'\u001b[39m] \u001b[38;5;241m==\u001b[39m {}\n\u001b[0;32m----> 3\u001b[0m \u001b[38;5;28;01mfor\u001b[39;00m data \u001b[38;5;129;01min\u001b[39;00m loader:\n\u001b[1;32m      4\u001b[0m     \u001b[38;5;28;01mif\u001b[39;00m data[\u001b[38;5;124m'\u001b[39m\u001b[38;5;124mGCB\u001b[39m\u001b[38;5;124m'\u001b[39m, \u001b[38;5;124m'\u001b[39m\u001b[38;5;124midentity\u001b[39m\u001b[38;5;124m'\u001b[39m, \u001b[38;5;124m'\u001b[39m\u001b[38;5;124mGCB\u001b[39m\u001b[38;5;124m'\u001b[39m] \u001b[38;5;241m==\u001b[39m {}:\n\u001b[1;32m      5\u001b[0m         \u001b[38;5;28mprint\u001b[39m(\u001b[38;5;124m\"\u001b[39m\u001b[38;5;124mhello\u001b[39m\u001b[38;5;124m\"\u001b[39m)\n",
      "File \u001b[0;32m~/anaconda3/lib/python3.11/site-packages/torch/utils/data/dataloader.py:630\u001b[0m, in \u001b[0;36m_BaseDataLoaderIter.__next__\u001b[0;34m(self)\u001b[0m\n\u001b[1;32m    627\u001b[0m \u001b[38;5;28;01mif\u001b[39;00m \u001b[38;5;28mself\u001b[39m\u001b[38;5;241m.\u001b[39m_sampler_iter \u001b[38;5;129;01mis\u001b[39;00m \u001b[38;5;28;01mNone\u001b[39;00m:\n\u001b[1;32m    628\u001b[0m     \u001b[38;5;66;03m# TODO(https://github.com/pytorch/pytorch/issues/76750)\u001b[39;00m\n\u001b[1;32m    629\u001b[0m     \u001b[38;5;28mself\u001b[39m\u001b[38;5;241m.\u001b[39m_reset()  \u001b[38;5;66;03m# type: ignore[call-arg]\u001b[39;00m\n\u001b[0;32m--> 630\u001b[0m data \u001b[38;5;241m=\u001b[39m \u001b[38;5;28mself\u001b[39m\u001b[38;5;241m.\u001b[39m_next_data()\n\u001b[1;32m    631\u001b[0m \u001b[38;5;28mself\u001b[39m\u001b[38;5;241m.\u001b[39m_num_yielded \u001b[38;5;241m+\u001b[39m\u001b[38;5;241m=\u001b[39m \u001b[38;5;241m1\u001b[39m\n\u001b[1;32m    632\u001b[0m \u001b[38;5;28;01mif\u001b[39;00m \u001b[38;5;28mself\u001b[39m\u001b[38;5;241m.\u001b[39m_dataset_kind \u001b[38;5;241m==\u001b[39m _DatasetKind\u001b[38;5;241m.\u001b[39mIterable \u001b[38;5;129;01mand\u001b[39;00m \\\n\u001b[1;32m    633\u001b[0m         \u001b[38;5;28mself\u001b[39m\u001b[38;5;241m.\u001b[39m_IterableDataset_len_called \u001b[38;5;129;01mis\u001b[39;00m \u001b[38;5;129;01mnot\u001b[39;00m \u001b[38;5;28;01mNone\u001b[39;00m \u001b[38;5;129;01mand\u001b[39;00m \\\n\u001b[1;32m    634\u001b[0m         \u001b[38;5;28mself\u001b[39m\u001b[38;5;241m.\u001b[39m_num_yielded \u001b[38;5;241m>\u001b[39m \u001b[38;5;28mself\u001b[39m\u001b[38;5;241m.\u001b[39m_IterableDataset_len_called:\n",
      "File \u001b[0;32m~/anaconda3/lib/python3.11/site-packages/torch/utils/data/dataloader.py:674\u001b[0m, in \u001b[0;36m_SingleProcessDataLoaderIter._next_data\u001b[0;34m(self)\u001b[0m\n\u001b[1;32m    672\u001b[0m \u001b[38;5;28;01mdef\u001b[39;00m \u001b[38;5;21m_next_data\u001b[39m(\u001b[38;5;28mself\u001b[39m):\n\u001b[1;32m    673\u001b[0m     index \u001b[38;5;241m=\u001b[39m \u001b[38;5;28mself\u001b[39m\u001b[38;5;241m.\u001b[39m_next_index()  \u001b[38;5;66;03m# may raise StopIteration\u001b[39;00m\n\u001b[0;32m--> 674\u001b[0m     data \u001b[38;5;241m=\u001b[39m \u001b[38;5;28mself\u001b[39m\u001b[38;5;241m.\u001b[39m_dataset_fetcher\u001b[38;5;241m.\u001b[39mfetch(index)  \u001b[38;5;66;03m# may raise StopIteration\u001b[39;00m\n\u001b[1;32m    675\u001b[0m     \u001b[38;5;28;01mif\u001b[39;00m \u001b[38;5;28mself\u001b[39m\u001b[38;5;241m.\u001b[39m_pin_memory:\n\u001b[1;32m    676\u001b[0m         data \u001b[38;5;241m=\u001b[39m _utils\u001b[38;5;241m.\u001b[39mpin_memory\u001b[38;5;241m.\u001b[39mpin_memory(data, \u001b[38;5;28mself\u001b[39m\u001b[38;5;241m.\u001b[39m_pin_memory_device)\n",
      "File \u001b[0;32m~/anaconda3/lib/python3.11/site-packages/torch/utils/data/_utils/fetch.py:54\u001b[0m, in \u001b[0;36m_MapDatasetFetcher.fetch\u001b[0;34m(self, possibly_batched_index)\u001b[0m\n\u001b[1;32m     52\u001b[0m \u001b[38;5;28;01melse\u001b[39;00m:\n\u001b[1;32m     53\u001b[0m     data \u001b[38;5;241m=\u001b[39m \u001b[38;5;28mself\u001b[39m\u001b[38;5;241m.\u001b[39mdataset[possibly_batched_index]\n\u001b[0;32m---> 54\u001b[0m \u001b[38;5;28;01mreturn\u001b[39;00m \u001b[38;5;28mself\u001b[39m\u001b[38;5;241m.\u001b[39mcollate_fn(data)\n",
      "File \u001b[0;32m~/anaconda3/lib/python3.11/site-packages/torch_geometric/loader/dataloader.py:55\u001b[0m, in \u001b[0;36mCollater.collate_fn\u001b[0;34m(self, batch)\u001b[0m\n\u001b[1;32m     53\u001b[0m \u001b[38;5;28;01mif\u001b[39;00m \u001b[38;5;28misinstance\u001b[39m(\u001b[38;5;28mself\u001b[39m\u001b[38;5;241m.\u001b[39mdataset, OnDiskDataset):\n\u001b[1;32m     54\u001b[0m     \u001b[38;5;28;01mreturn\u001b[39;00m \u001b[38;5;28mself\u001b[39m(\u001b[38;5;28mself\u001b[39m\u001b[38;5;241m.\u001b[39mdataset\u001b[38;5;241m.\u001b[39mmulti_get(batch))\n\u001b[0;32m---> 55\u001b[0m \u001b[38;5;28;01mreturn\u001b[39;00m \u001b[38;5;28mself\u001b[39m(batch)\n",
      "File \u001b[0;32m~/anaconda3/lib/python3.11/site-packages/torch_geometric/loader/dataloader.py:28\u001b[0m, in \u001b[0;36mCollater.__call__\u001b[0;34m(self, batch)\u001b[0m\n\u001b[1;32m     26\u001b[0m elem \u001b[38;5;241m=\u001b[39m batch[\u001b[38;5;241m0\u001b[39m]\n\u001b[1;32m     27\u001b[0m \u001b[38;5;28;01mif\u001b[39;00m \u001b[38;5;28misinstance\u001b[39m(elem, BaseData):\n\u001b[0;32m---> 28\u001b[0m     \u001b[38;5;28;01mreturn\u001b[39;00m Batch\u001b[38;5;241m.\u001b[39mfrom_data_list(\n\u001b[1;32m     29\u001b[0m         batch,\n\u001b[1;32m     30\u001b[0m         follow_batch\u001b[38;5;241m=\u001b[39m\u001b[38;5;28mself\u001b[39m\u001b[38;5;241m.\u001b[39mfollow_batch,\n\u001b[1;32m     31\u001b[0m         exclude_keys\u001b[38;5;241m=\u001b[39m\u001b[38;5;28mself\u001b[39m\u001b[38;5;241m.\u001b[39mexclude_keys,\n\u001b[1;32m     32\u001b[0m     )\n\u001b[1;32m     33\u001b[0m \u001b[38;5;28;01melif\u001b[39;00m \u001b[38;5;28misinstance\u001b[39m(elem, torch\u001b[38;5;241m.\u001b[39mTensor):\n\u001b[1;32m     34\u001b[0m     \u001b[38;5;28;01mreturn\u001b[39;00m default_collate(batch)\n",
      "File \u001b[0;32m~/anaconda3/lib/python3.11/site-packages/torch_geometric/data/batch.py:93\u001b[0m, in \u001b[0;36mBatch.from_data_list\u001b[0;34m(cls, data_list, follow_batch, exclude_keys)\u001b[0m\n\u001b[1;32m     81\u001b[0m \u001b[38;5;129m@classmethod\u001b[39m\n\u001b[1;32m     82\u001b[0m \u001b[38;5;28;01mdef\u001b[39;00m \u001b[38;5;21mfrom_data_list\u001b[39m(\u001b[38;5;28mcls\u001b[39m, data_list: List[BaseData],\n\u001b[1;32m     83\u001b[0m                    follow_batch: Optional[List[\u001b[38;5;28mstr\u001b[39m]] \u001b[38;5;241m=\u001b[39m \u001b[38;5;28;01mNone\u001b[39;00m,\n\u001b[1;32m     84\u001b[0m                    exclude_keys: Optional[List[\u001b[38;5;28mstr\u001b[39m]] \u001b[38;5;241m=\u001b[39m \u001b[38;5;28;01mNone\u001b[39;00m):\n\u001b[1;32m     85\u001b[0m \u001b[38;5;250m    \u001b[39m\u001b[38;5;124mr\u001b[39m\u001b[38;5;124;03m\"\"\"Constructs a :class:`~torch_geometric.data.Batch` object from a\u001b[39;00m\n\u001b[1;32m     86\u001b[0m \u001b[38;5;124;03m    Python list of :class:`~torch_geometric.data.Data` or\u001b[39;00m\n\u001b[1;32m     87\u001b[0m \u001b[38;5;124;03m    :class:`~torch_geometric.data.HeteroData` objects.\u001b[39;00m\n\u001b[0;32m   (...)\u001b[0m\n\u001b[1;32m     90\u001b[0m \u001b[38;5;124;03m    :obj:`follow_batch`.\u001b[39;00m\n\u001b[1;32m     91\u001b[0m \u001b[38;5;124;03m    Will exclude any keys given in :obj:`exclude_keys`.\"\"\"\u001b[39;00m\n\u001b[0;32m---> 93\u001b[0m     batch, slice_dict, inc_dict \u001b[38;5;241m=\u001b[39m collate(\n\u001b[1;32m     94\u001b[0m         \u001b[38;5;28mcls\u001b[39m,\n\u001b[1;32m     95\u001b[0m         data_list\u001b[38;5;241m=\u001b[39mdata_list,\n\u001b[1;32m     96\u001b[0m         increment\u001b[38;5;241m=\u001b[39m\u001b[38;5;28;01mTrue\u001b[39;00m,\n\u001b[1;32m     97\u001b[0m         add_batch\u001b[38;5;241m=\u001b[39m\u001b[38;5;129;01mnot\u001b[39;00m \u001b[38;5;28misinstance\u001b[39m(data_list[\u001b[38;5;241m0\u001b[39m], Batch),\n\u001b[1;32m     98\u001b[0m         follow_batch\u001b[38;5;241m=\u001b[39mfollow_batch,\n\u001b[1;32m     99\u001b[0m         exclude_keys\u001b[38;5;241m=\u001b[39mexclude_keys,\n\u001b[1;32m    100\u001b[0m     )\n\u001b[1;32m    102\u001b[0m     batch\u001b[38;5;241m.\u001b[39m_num_graphs \u001b[38;5;241m=\u001b[39m \u001b[38;5;28mlen\u001b[39m(data_list)\n\u001b[1;32m    103\u001b[0m     batch\u001b[38;5;241m.\u001b[39m_slice_dict \u001b[38;5;241m=\u001b[39m slice_dict\n",
      "File \u001b[0;32m~/anaconda3/lib/python3.11/site-packages/torch_geometric/data/collate.py:92\u001b[0m, in \u001b[0;36mcollate\u001b[0;34m(cls, data_list, increment, add_batch, follow_batch, exclude_keys)\u001b[0m\n\u001b[1;32m     89\u001b[0m     \u001b[38;5;28;01mcontinue\u001b[39;00m\n\u001b[1;32m     91\u001b[0m \u001b[38;5;66;03m# Collate attributes into a unified representation:\u001b[39;00m\n\u001b[0;32m---> 92\u001b[0m value, slices, incs \u001b[38;5;241m=\u001b[39m _collate(attr, values, data_list, stores,\n\u001b[1;32m     93\u001b[0m                                increment)\n\u001b[1;32m     95\u001b[0m \u001b[38;5;28;01mif\u001b[39;00m \u001b[38;5;28misinstance\u001b[39m(value, Tensor) \u001b[38;5;129;01mand\u001b[39;00m value\u001b[38;5;241m.\u001b[39mis_cuda:\n\u001b[1;32m     96\u001b[0m     device \u001b[38;5;241m=\u001b[39m value\u001b[38;5;241m.\u001b[39mdevice\n",
      "File \u001b[0;32m~/anaconda3/lib/python3.11/site-packages/torch_geometric/data/collate.py:135\u001b[0m, in \u001b[0;36m_collate\u001b[0;34m(key, values, data_list, stores, increment)\u001b[0m\n\u001b[1;32m    130\u001b[0m elem \u001b[38;5;241m=\u001b[39m values[\u001b[38;5;241m0\u001b[39m]\n\u001b[1;32m    132\u001b[0m \u001b[38;5;28;01mif\u001b[39;00m \u001b[38;5;28misinstance\u001b[39m(elem, Tensor) \u001b[38;5;129;01mand\u001b[39;00m \u001b[38;5;129;01mnot\u001b[39;00m is_sparse(elem):\n\u001b[1;32m    133\u001b[0m     \u001b[38;5;66;03m# Concatenate a list of `torch.Tensor` along the `cat_dim`.\u001b[39;00m\n\u001b[1;32m    134\u001b[0m     \u001b[38;5;66;03m# NOTE: We need to take care of incrementing elements appropriately.\u001b[39;00m\n\u001b[0;32m--> 135\u001b[0m     key \u001b[38;5;241m=\u001b[39m \u001b[38;5;28mstr\u001b[39m(key)\n\u001b[1;32m    136\u001b[0m     cat_dim \u001b[38;5;241m=\u001b[39m data_list[\u001b[38;5;241m0\u001b[39m]\u001b[38;5;241m.\u001b[39m__cat_dim__(key, elem, stores[\u001b[38;5;241m0\u001b[39m])\n\u001b[1;32m    137\u001b[0m     \u001b[38;5;28;01mif\u001b[39;00m cat_dim \u001b[38;5;129;01mis\u001b[39;00m \u001b[38;5;28;01mNone\u001b[39;00m \u001b[38;5;129;01mor\u001b[39;00m elem\u001b[38;5;241m.\u001b[39mdim() \u001b[38;5;241m==\u001b[39m \u001b[38;5;241m0\u001b[39m:\n",
      "\u001b[0;31mKeyboardInterrupt\u001b[0m: "
     ]
    }
   ],
   "source": [
    "next(iter(loader))['GCB', 'identity', 'GCB'] == {}\n",
    "\n",
    "for data in loader:\n",
    "    if data['GCB', 'identity', 'GCB'] == {}:\n",
    "        print(\"hello\")"
   ]
  },
  {
   "cell_type": "code",
   "execution_count": null,
   "id": "c7f3e777-016a-4b17-bddb-56be168e444b",
   "metadata": {},
   "outputs": [],
   "source": []
  },
  {
   "cell_type": "code",
   "execution_count": 306,
   "id": "60628953-dbc5-4d26-b5e1-b593d85e8c4d",
   "metadata": {},
   "outputs": [],
   "source": [
    "dataset = MoleculeNet(root=\"./dataset/MoleculeNety1\", name='HIV', pre_transform=unsqueeze_y,\n",
    "                     transform=AddSupernodesHeteroMulti(concepts_list))\n",
    "t = DataLoader(dataset[0.6:0.8], batch_size=1)"
   ]
  },
  {
   "cell_type": "code",
   "execution_count": null,
   "id": "e26e7d5c-2b2a-49e0-9dac-a47d33b5f7af",
   "metadata": {},
   "outputs": [],
   "source": []
  },
  {
   "cell_type": "code",
   "execution_count": 307,
   "id": "6d70a4fc-75a7-402d-920d-876d86d281b6",
   "metadata": {},
   "outputs": [
    {
     "data": {
      "text/plain": [
       "HeteroDataBatch(\n",
       "  normal={\n",
       "    x=[23, 9],\n",
       "    batch=[23],\n",
       "    ptr=[2],\n",
       "  },\n",
       "  label={ y=[1] },\n",
       "  GCB={\n",
       "    x=[2, 9],\n",
       "    batch=[2],\n",
       "    ptr=[2],\n",
       "  },\n",
       "  (normal, orig, normal)={\n",
       "    edge_index=[2, 48],\n",
       "    edge_attr=[48, 3],\n",
       "  },\n",
       "  (normal, identity, normal)={ edge_index=[2, 23] },\n",
       "  (normal, toSup, GCB)={ edge_index=[2, 11] },\n",
       "  (GCB, toNor, normal)={ edge_index=[2, 11] },\n",
       "  (GCB, identity, GCB)={ edge_index=[2, 2] }\n",
       ")"
      ]
     },
     "execution_count": 307,
     "metadata": {},
     "output_type": "execute_result"
    }
   ],
   "source": [
    "itd = iter(t)\n",
    "aT = next(itd)\n",
    "aT"
   ]
  },
  {
   "cell_type": "code",
   "execution_count": 301,
   "id": "e874f5a2-25b5-42c6-aaa1-26d264b1d73b",
   "metadata": {},
   "outputs": [],
   "source": [
    "aT2 = AddSupernodesHeteroMulti(concepts_list)(aT)"
   ]
  },
  {
   "cell_type": "code",
   "execution_count": 302,
   "id": "e6578d8d-74b1-4b0c-ab4d-9f188e3471d2",
   "metadata": {},
   "outputs": [
    {
     "data": {
      "text/plain": [
       "HeteroData(\n",
       "  normal={ x=[53, 9] },\n",
       "  label={ y=[2] },\n",
       "  GCB={ x=[6, 9] },\n",
       "  (normal, orig, normal)={\n",
       "    edge_index=[2, 114],\n",
       "    edge_attr=[114, 3],\n",
       "  },\n",
       "  (normal, identity, normal)={ edge_index=[2, 53] },\n",
       "  (normal, toSup, GCB)={ edge_index=[2, 35] },\n",
       "  (GCB, toNor, normal)={ edge_index=[2, 35] },\n",
       "  (GCB, identity, GCB)={ edge_index=[2, 6] }\n",
       ")"
      ]
     },
     "execution_count": 302,
     "metadata": {},
     "output_type": "execute_result"
    }
   ],
   "source": [
    "aT2"
   ]
  },
  {
   "cell_type": "code",
   "execution_count": 309,
   "id": "fa1bf9a2-54c7-4dc8-9dd2-bf98328a0546",
   "metadata": {},
   "outputs": [
    {
     "data": {
      "text/plain": [
       "tensor([0])"
      ]
     },
     "execution_count": 309,
     "metadata": {},
     "output_type": "execute_result"
    }
   ],
   "source": [
    "torch.arange(1)"
   ]
  },
  {
   "cell_type": "code",
   "execution_count": null,
   "id": "aae8789a-2cf9-42d4-8658-37e1fcfb949c",
   "metadata": {},
   "outputs": [],
   "source": []
  }
 ],
 "metadata": {
  "kernelspec": {
   "display_name": "Python 3 (ipykernel)",
   "language": "python",
   "name": "python3"
  },
  "language_info": {
   "codemirror_mode": {
    "name": "ipython",
    "version": 3
   },
   "file_extension": ".py",
   "mimetype": "text/x-python",
   "name": "python",
   "nbconvert_exporter": "python",
   "pygments_lexer": "ipython3",
   "version": "3.11.7"
  }
 },
 "nbformat": 4,
 "nbformat_minor": 5
}
