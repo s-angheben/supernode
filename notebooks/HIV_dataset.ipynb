{
 "cells": [
  {
   "cell_type": "code",
   "execution_count": 1,
   "id": "ce88464f-477e-4152-9098-25fc91ca41e0",
   "metadata": {},
   "outputs": [],
   "source": [
    "import torch\n",
    "import torch_geometric\n",
    "from torch_geometric.datasets import MoleculeNet\n"
   ]
  },
  {
   "cell_type": "code",
   "execution_count": 2,
   "id": "e790adcc-4bac-4fae-9690-2e0f5e59b66c",
   "metadata": {},
   "outputs": [],
   "source": [
    "def unsqueeze_y(data):\n",
    "    data.y = data.y.squeeze(1)\n",
    "    return data"
   ]
  },
  {
   "cell_type": "code",
   "execution_count": 3,
   "id": "49f6da26-a543-45ad-8ef5-f20b7ef3c216",
   "metadata": {},
   "outputs": [],
   "source": [
    "dataset = MoleculeNet(root=\"./dataset/MoleculeNety1\", name='HIV', pre_transform=unsqueeze_y)"
   ]
  },
  {
   "cell_type": "code",
   "execution_count": 4,
   "id": "22cb63f0-11b5-4742-9d1b-beaf663ecab0",
   "metadata": {},
   "outputs": [
    {
     "name": "stdout",
     "output_type": "stream",
     "text": [
      "\n",
      "Dataset: HIV(41127):\n",
      "======================\n",
      "Number of graphs: 41127\n",
      "Number of features: 9\n",
      "Number of classes: 2\n",
      "\n",
      "Data(x=[19, 9], edge_index=[2, 40], edge_attr=[40, 3], smiles='CCC1=[O+][Cu-3]2([O+]=C(CC)C1)[O+]=C(CC)CC(CC)=[O+]2', y=[1])\n",
      "===========================================================================================================\n",
      "Number of nodes: 19\n",
      "Number of edges: 40\n",
      "Average node degree: 2.11\n",
      "Has isolated nodes: False\n",
      "Has self-loops: False\n",
      "Is undirected: True\n"
     ]
    }
   ],
   "source": [
    "print()\n",
    "print(f'Dataset: {dataset}:')\n",
    "print('======================')\n",
    "print(f'Number of graphs: {len(dataset)}')\n",
    "print(f'Number of features: {dataset.num_features}')\n",
    "print(f'Number of classes: {dataset.num_classes}')\n",
    "\n",
    "data = dataset[0]  # Get the first graph object.\n",
    "\n",
    "print()\n",
    "print(data)\n",
    "print('===========================================================================================================')\n",
    "\n",
    "# Gather some statistics about the graph.\n",
    "print(f'Number of nodes: {data.num_nodes}')\n",
    "print(f'Number of edges: {data.num_edges}')\n",
    "print(f'Average node degree: {data.num_edges / data.num_nodes:.2f}')\n",
    "print(f'Has isolated nodes: {data.has_isolated_nodes()}')\n",
    "print(f'Has self-loops: {data.has_self_loops()}')\n",
    "print(f'Is undirected: {data.is_undirected()}')"
   ]
  },
  {
   "cell_type": "code",
   "execution_count": 5,
   "id": "601d0bab-d2c1-4c2f-b013-37d8993aaf52",
   "metadata": {},
   "outputs": [],
   "source": [
    "import sys\n",
    "sys.path.insert(1, '/home/sam/Documents/network/supernode/HIV_test/')"
   ]
  },
  {
   "cell_type": "code",
   "execution_count": 6,
   "id": "aa649760-9d2b-4bfa-a5c6-7963f2056fc1",
   "metadata": {},
   "outputs": [],
   "source": [
    "from data.transformation import AddSupernodes\n",
    "from data.concepts import *"
   ]
  },
  {
   "cell_type": "code",
   "execution_count": 7,
   "id": "66c4a078-6101-4551-8779-8ea4995eb825",
   "metadata": {},
   "outputs": [],
   "source": [
    "dataset = MoleculeNet(root=\"./dataset/MoleculeNety1\", name='HIV', pre_transform=unsqueeze_y)"
   ]
  },
  {
   "cell_type": "code",
   "execution_count": 8,
   "id": "124ac7ed-7224-435d-8aab-bee4ee6192b2",
   "metadata": {},
   "outputs": [
    {
     "data": {
      "text/plain": [
       "Data(x=[21], edge_index=[2, 64], y=[1], ntype=[21], S=[21], edge_S=[64, 1])"
      ]
     },
     "execution_count": 8,
     "metadata": {},
     "output_type": "execute_result"
    }
   ],
   "source": [
    "concepts_list = [\n",
    "       {\"name\": \"GCB\", \"fun\": cycle_basis, \"args\": [], \"features\" : [2]},\n",
    "       {\"name\": \"GMC\", \"fun\": max_cliques, \"args\": []},\n",
    "    ]\n",
    "data = AddSupernodes(concepts_list)(dataset[0])\n",
    "data"
   ]
  },
  {
   "cell_type": "code",
   "execution_count": null,
   "id": "369e53c7-fbab-4499-8897-32c07fa337fc",
   "metadata": {},
   "outputs": [],
   "source": []
  },
  {
   "cell_type": "code",
   "execution_count": null,
   "id": "135060d7-9091-4746-ad4b-6fedf98beddc",
   "metadata": {},
   "outputs": [],
   "source": []
  },
  {
   "cell_type": "code",
   "execution_count": null,
   "id": "498a4d14-9ac6-4a87-a415-d0165f973925",
   "metadata": {},
   "outputs": [],
   "source": []
  }
 ],
 "metadata": {
  "kernelspec": {
   "display_name": "Python 3 (ipykernel)",
   "language": "python",
   "name": "python3"
  },
  "language_info": {
   "codemirror_mode": {
    "name": "ipython",
    "version": 3
   },
   "file_extension": ".py",
   "mimetype": "text/x-python",
   "name": "python",
   "nbconvert_exporter": "python",
   "pygments_lexer": "ipython3",
   "version": "3.11.7"
  }
 },
 "nbformat": 4,
 "nbformat_minor": 5
}
