{
 "cells": [
  {
   "cell_type": "code",
   "execution_count": 24,
   "id": "90127dae-0c85-4444-b858-2236217216fa",
   "metadata": {},
   "outputs": [],
   "source": [
    "from torch_geometric.datasets import TUDataset\n",
    "import torch"
   ]
  },
  {
   "cell_type": "code",
   "execution_count": 25,
   "id": "c93500fc-701a-4d8a-886a-321c48a74254",
   "metadata": {},
   "outputs": [
    {
     "name": "stdout",
     "output_type": "stream",
     "text": [
      "Using device: cuda\n"
     ]
    }
   ],
   "source": [
    "device = torch.device(\"cuda\" if torch.cuda.is_available() else \"cpu\")\n",
    "print(f\"Using device: {device}\")"
   ]
  },
  {
   "cell_type": "code",
   "execution_count": 26,
   "id": "fb2490b4-1467-4aec-9bdd-db0ab6d6e841",
   "metadata": {},
   "outputs": [],
   "source": [
    "dataset = TUDataset(root=\"./dataset/TUD\", name='IMDB-BINARY')"
   ]
  },
  {
   "cell_type": "code",
   "execution_count": 27,
   "id": "86be6c77-2da7-4a2c-8609-4323be5564b6",
   "metadata": {
    "scrolled": true
   },
   "outputs": [
    {
     "name": "stdout",
     "output_type": "stream",
     "text": [
      "\n",
      "Dataset: IMDB-BINARY(1000):\n",
      "======================\n",
      "Number of graphs: 1000\n",
      "Number of features: 0\n",
      "Number of classes: 2\n",
      "\n",
      "Data(edge_index=[2, 146], y=[1], num_nodes=20)\n",
      "===========================================================================================================\n",
      "Number of nodes: 20\n",
      "Number of edges: 146\n",
      "Average node degree: 7.30\n",
      "Has isolated nodes: False\n",
      "Has self-loops: False\n",
      "Is undirected: True\n"
     ]
    }
   ],
   "source": [
    "print()\n",
    "print(f'Dataset: {dataset}:')\n",
    "print('======================')\n",
    "print(f'Number of graphs: {len(dataset)}')\n",
    "print(f'Number of features: {dataset.num_features}')\n",
    "print(f'Number of classes: {dataset.num_classes}')\n",
    "\n",
    "data = dataset[0]  # Get the first graph object.\n",
    "\n",
    "print()\n",
    "print(data)\n",
    "print('===========================================================================================================')\n",
    "\n",
    "# Gather some statistics about the graph.\n",
    "print(f'Number of nodes: {data.num_nodes}')\n",
    "print(f'Number of edges: {data.num_edges}')\n",
    "print(f'Average node degree: {data.num_edges / data.num_nodes:.2f}')\n",
    "print(f'Has isolated nodes: {data.has_isolated_nodes()}')\n",
    "print(f'Has self-loops: {data.has_self_loops()}')\n",
    "print(f'Is undirected: {data.is_undirected()}')"
   ]
  },
  {
   "cell_type": "code",
   "execution_count": 28,
   "id": "589b81bd-0cdb-48a2-a30c-f0cb9fa1beaf",
   "metadata": {},
   "outputs": [
    {
     "name": "stdout",
     "output_type": "stream",
     "text": [
      "500\n",
      "500\n"
     ]
    }
   ],
   "source": [
    "y_0 = 0\n",
    "y_1 = 0\n",
    "\n",
    "for data in dataset:\n",
    "    if data.y.item() == 0:\n",
    "        y_0 += 1\n",
    "    if data.y.item() == 1:\n",
    "        y_1 += 1\n",
    "    if data.y.item() == 2:\n",
    "        y_1 += 1\n",
    "    if data.y.item() == 3:\n",
    "        y_1 += 1\n",
    "    if data.y.item() == 4:\n",
    "        y_1 += 1\n",
    "\n",
    "print(y_0)\n",
    "print(y_1)"
   ]
  },
  {
   "cell_type": "code",
   "execution_count": null,
   "id": "11a02e6e-25a0-4d04-a540-ccbbe9cfaaed",
   "metadata": {},
   "outputs": [],
   "source": []
  }
 ],
 "metadata": {
  "kernelspec": {
   "display_name": "Python 3 (ipykernel)",
   "language": "python",
   "name": "python3"
  },
  "language_info": {
   "codemirror_mode": {
    "name": "ipython",
    "version": 3
   },
   "file_extension": ".py",
   "mimetype": "text/x-python",
   "name": "python",
   "nbconvert_exporter": "python",
   "pygments_lexer": "ipython3",
   "version": "3.11.7"
  }
 },
 "nbformat": 4,
 "nbformat_minor": 5
}
